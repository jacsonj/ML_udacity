{
 "cells": [
  {
   "cell_type": "code",
   "execution_count": 1,
   "metadata": {},
   "outputs": [],
   "source": [
    "# coding: utf-8\n",
    "\n",
    "# Começando com os imports\n",
    "import csv\n",
    "import matplotlib.pyplot as plt"
   ]
  },
  {
   "cell_type": "code",
   "execution_count": 2,
   "metadata": {},
   "outputs": [
    {
     "name": "stdout",
     "output_type": "stream",
     "text": [
      "Lendo o documento...\n",
      "Ok!\n",
      "Número de linhas:\n",
      "1551506\n",
      "Linha 0: \n",
      "['Start Time', 'End Time', 'Trip Duration', 'Start Station', 'End Station', 'User Type', 'Gender', 'Birth Year']\n",
      "Linha 1: \n",
      "['2017-01-01 00:00:36', '2017-01-01 00:06:32', '356', 'Canal St & Taylor St', 'Canal St & Monroe St (*)', 'Customer', '', '']\n",
      "Aperte Enter para continuar...\n"
     ]
    },
    {
     "data": {
      "text/plain": [
       "''"
      ]
     },
     "execution_count": 2,
     "metadata": {},
     "output_type": "execute_result"
    }
   ],
   "source": [
    "# Vamos ler os dados como uma lista\n",
    "print(\"Lendo o documento...\")\n",
    "with open(\"chicago.csv\", \"r\") as file_read:\n",
    "    reader = csv.reader(file_read)\n",
    "    data_list = list(reader)\n",
    "print(\"Ok!\")\n",
    "\n",
    "# Vamos verificar quantas linhas nós temos\n",
    "print(\"Número de linhas:\")\n",
    "print(len(data_list))\n",
    "\n",
    "# Imprimindo a primeira linha de data_list para verificar se funcionou.\n",
    "print(\"Linha 0: \")\n",
    "print(data_list[0])\n",
    "# É o cabeçalho dos dados, para que possamos identificar as colunas.\n",
    "\n",
    "# Imprimindo a segunda linha de data_list, ela deveria conter alguns dados\n",
    "print(\"Linha 1: \")\n",
    "print(data_list[1])\n",
    "\n",
    "input(\"Aperte Enter para continuar...\")"
   ]
  },
  {
   "cell_type": "code",
   "execution_count": 3,
   "metadata": {
    "scrolled": true
   },
   "outputs": [
    {
     "name": "stdout",
     "output_type": "stream",
     "text": [
      "\n",
      "\n",
      "TAREFA 1: Imprimindo as primeiras 20 amostras\n",
      "['Start Time', 'End Time', 'Trip Duration', 'Start Station', 'End Station', 'User Type', 'Gender', 'Birth Year']\n",
      "['2017-01-01 00:00:36', '2017-01-01 00:06:32', '356', 'Canal St & Taylor St', 'Canal St & Monroe St (*)', 'Customer', '', '']\n",
      "['2017-01-01 00:02:54', '2017-01-01 00:08:21', '327', 'Larrabee St & Menomonee St', 'Sheffield Ave & Kingsbury St', 'Subscriber', 'Male', '1984.0']\n",
      "['2017-01-01 00:06:06', '2017-01-01 00:18:31', '745', 'Orleans St & Chestnut St (NEXT Apts)', 'Ashland Ave & Blackhawk St', 'Subscriber', 'Male', '1985.0']\n",
      "['2017-01-01 00:07:28', '2017-01-01 00:12:51', '323', 'Franklin St & Monroe St', 'Clinton St & Tilden St', 'Subscriber', 'Male', '1990.0']\n",
      "['2017-01-01 00:07:57', '2017-01-01 00:20:53', '776', 'Broadway & Barry Ave', 'Sedgwick St & North Ave', 'Subscriber', 'Male', '1990.0']\n",
      "['2017-01-01 00:10:44', '2017-01-01 00:21:27', '643', 'State St & Kinzie St', 'Wells St & Polk St', 'Subscriber', 'Male', '1970.0']\n",
      "['2017-01-01 00:11:34', '2017-01-01 00:23:47', '733', 'Wabash Ave & Wacker Pl', 'Clinton St & Tilden St', 'Subscriber', 'Male', '1986.0']\n",
      "['2017-01-01 00:14:57', '2017-01-01 00:26:22', '685', 'Daley Center Plaza', 'Canal St & Monroe St (*)', 'Customer', '', '']\n",
      "['2017-01-01 00:15:03', '2017-01-01 00:26:28', '685', 'Daley Center Plaza', 'Canal St & Monroe St (*)', 'Customer', '', '']\n",
      "['2017-01-01 00:17:01', '2017-01-01 00:29:49', '768', 'Dayton St & North Ave', 'Ogden Ave & Chicago Ave', 'Customer', '', '']\n",
      "['2017-01-01 00:17:13', '2017-01-01 11:03:34', '38781', 'Wilton Ave & Diversey Pkwy', 'Halsted St & Wrightwood Ave', 'Subscriber', 'Female', '1988.0']\n",
      "['2017-01-01 00:18:28', '2017-01-01 00:31:05', '757', 'Canal St & Madison St', 'LaSalle St & Illinois St', 'Customer', '', '']\n",
      "['2017-01-01 00:18:50', '2017-01-01 00:21:47', '177', 'Theater on the Lake', 'Lakeview Ave & Fullerton Pkwy', 'Subscriber', 'Male', '1991.0']\n",
      "['2017-01-01 00:23:41', '2017-01-01 00:29:13', '332', 'Halsted St & Maxwell St', 'Halsted St & 18th St', 'Subscriber', 'Male', '1984.0']\n",
      "['2017-01-01 00:25:47', '2017-01-01 00:39:53', '846', 'Ravenswood Ave & Lawrence Ave', 'Clarendon Ave & Gordon Ter', 'Subscriber', 'Female', '1987.0']\n",
      "['2017-01-01 00:25:47', '2017-01-01 00:43:23', '1056', 'Clark St & Congress Pkwy', 'Wolcott Ave & Polk St', 'Subscriber', 'Male', '1984.0']\n",
      "['2017-01-01 00:26:21', '2017-01-01 00:39:40', '799', 'Ravenswood Ave & Lawrence Ave', 'Clarendon Ave & Gordon Ter', 'Subscriber', 'Male', '1987.0']\n",
      "['2017-01-01 00:27:21', '2017-01-01 00:42:59', '938', 'Millennium Park', 'Michigan Ave & 18th St', 'Subscriber', 'Male', '1991.0']\n",
      "['2017-01-01 00:27:28', '2017-01-01 00:42:44', '916', 'Millennium Park', 'Michigan Ave & 18th St', 'Subscriber', 'Female', '1990.0']\n",
      "Aperte Enter para continuar...\n"
     ]
    },
    {
     "data": {
      "text/plain": [
       "''"
      ]
     },
     "execution_count": 3,
     "metadata": {},
     "output_type": "execute_result"
    }
   ],
   "source": [
    "# TAREFA 1\n",
    "# TODO: Imprima as primeiras 20 linhas usando um loop para identificar os dados.\n",
    "print(\"\\n\\nTAREFA 1: Imprimindo as primeiras 20 amostras\")\n",
    "\n",
    "for value in range(20):\n",
    "    print(data_list[value])\n",
    "input(\"Aperte Enter para continuar...\")"
   ]
  },
  {
   "cell_type": "code",
   "execution_count": 4,
   "metadata": {
    "scrolled": true
   },
   "outputs": [
    {
     "name": "stdout",
     "output_type": "stream",
     "text": [
      "\n",
      "TAREFA 2: Imprimindo o gênero das primeiras 20 amostras\n",
      "Gender\n",
      "\n",
      "Male\n",
      "Male\n",
      "Male\n",
      "Male\n",
      "Male\n",
      "Male\n",
      "\n",
      "\n",
      "\n",
      "Female\n",
      "\n",
      "Male\n",
      "Male\n",
      "Female\n",
      "Male\n",
      "Male\n",
      "Male\n",
      "Female\n",
      "Aperte Enter para continuar...\n"
     ]
    },
    {
     "data": {
      "text/plain": [
       "''"
      ]
     },
     "execution_count": 4,
     "metadata": {},
     "output_type": "execute_result"
    }
   ],
   "source": [
    "# TAREFA 2\n",
    "# TODO: Imprima o `gênero` das primeiras 20 linhas\n",
    "\n",
    "print(\"\\nTAREFA 2: Imprimindo o gênero das primeiras 20 amostras\")\n",
    "\n",
    "for line in data_list[:20]:\n",
    "    print(line[6])\n",
    "\n",
    "input(\"Aperte Enter para continuar...\")"
   ]
  },
  {
   "cell_type": "code",
   "execution_count": 5,
   "metadata": {},
   "outputs": [
    {
     "name": "stdout",
     "output_type": "stream",
     "text": [
      "\n",
      "TAREFA 3: Imprimindo a lista de gêneros das primeiras 20 amostras\n",
      "['', 'Male', 'Male', 'Male', 'Male', 'Male', 'Male', '', '', '', 'Female', '', 'Male', 'Male', 'Female', 'Male', 'Male', 'Male', 'Female', 'Male']\n",
      "Aperte Enter para continuar...\n"
     ]
    },
    {
     "data": {
      "text/plain": [
       "''"
      ]
     },
     "execution_count": 5,
     "metadata": {},
     "output_type": "execute_result"
    }
   ],
   "source": [
    "# TAREFA 3\n",
    "# TODO: Crie uma função para adicionar as colunas(features) de uma lista em outra lista, na mesma ordem\n",
    "def column_to_list(data, index):\n",
    "    \"\"\"\n",
    "      Função que lê todos os dados de uma coluna e retorna como uma lista.\n",
    "      Argumentos:\n",
    "          data: O dataset completo.\n",
    "          param2: A coluna do index.\n",
    "      Retorna:\n",
    "          Uma lista com todos os valores de uma determinada coluna.\n",
    "\n",
    "      \"\"\"\n",
    "    # Dica: Você pode usar um for para iterar sobre as amostras, pegar a feature pelo seu índice, e dar append para uma lista\n",
    "    #next(data)\n",
    "    column_list = [x[index] for x in data[1:]]\n",
    "    return column_list\n",
    "\n",
    "\n",
    "# Vamos checar com os gêneros se isso está funcionando (apenas para os primeiros 20)\n",
    "print(\"\\nTAREFA 3: Imprimindo a lista de gêneros das primeiras 20 amostras\")\n",
    "print(column_to_list(data_list, -2)[:20])\n",
    "\n",
    "# ------------ NÃO MUDE NENHUM CÓDIGO AQUI ------------\n",
    "assert type(column_to_list(data_list, -2)) is list, \"TAREFA 3: Tipo incorreto retornado. Deveria ser uma lista.\"\n",
    "assert len(column_to_list(data_list, -2)) == 1551505, \"TAREFA 3: Tamanho incorreto retornado.\"\n",
    "assert column_to_list(data_list, -2)[0] == \"\" and column_to_list(data_list, -2)[1] == \"Male\", \"TAREFA 3: A lista não coincide.\"\n",
    "# -----------------------------------------------------\n",
    "\n",
    "input(\"Aperte Enter para continuar...\")"
   ]
  },
  {
   "cell_type": "code",
   "execution_count": 6,
   "metadata": {},
   "outputs": [
    {
     "name": "stdout",
     "output_type": "stream",
     "text": [
      "\n",
      "TAREFA 4: Imprimindo quantos masculinos e femininos nós encontramos\n",
      "Masculinos:  935854 \n",
      "Femininos:  298784\n",
      "Aperte Enter para continuar...\n"
     ]
    },
    {
     "data": {
      "text/plain": [
       "''"
      ]
     },
     "execution_count": 6,
     "metadata": {},
     "output_type": "execute_result"
    }
   ],
   "source": [
    "# TAREFA 4\n",
    "# TODO: Conte cada gênero. Você não deveria usar uma função parTODO isso.\n",
    "male = len([gender[-2] for gender in data_list if gender[-2] == \"Male\"])\n",
    "female = len([gender[-2] for gender in data_list if gender[-2] == \"Female\"])\n",
    "\n",
    "\n",
    "# Verificando o resultado\n",
    "print(\"\\nTAREFA 4: Imprimindo quantos masculinos e femininos nós encontramos\")\n",
    "print(\"Masculinos: \", male, \"\\nFemininos: \", female)\n",
    "\n",
    "# ------------ NÃO MUDE NENHUM CÓDIGO AQUI ------------\n",
    "assert male == 935854 and female == 298784, \"TAREFA 4: A conta não bate.\"\n",
    "# -----------------------------------------------------\n",
    "\n",
    "input(\"Aperte Enter para continuar...\")"
   ]
  },
  {
   "cell_type": "code",
   "execution_count": 7,
   "metadata": {},
   "outputs": [
    {
     "name": "stdout",
     "output_type": "stream",
     "text": [
      "\n",
      "TAREFA 5: Imprimindo o resultado de count_gender\n",
      "[935854, 298784]\n",
      "Aperte Enter para continuar...\n"
     ]
    },
    {
     "data": {
      "text/plain": [
       "''"
      ]
     },
     "execution_count": 7,
     "metadata": {},
     "output_type": "execute_result"
    }
   ],
   "source": [
    "# TAREFA 5\n",
    "# TODO: Crie uma função para contar os gêneros. Retorne uma lista.\n",
    "# Isso deveria retornar uma lista com [count_male, count_female] (exemplo: [10, 15] significa 10 Masculinos, 15 Femininos)\n",
    "def count_gender(data_list):\n",
    "    \"\"\"\n",
    "      Função de contador de genero, contabiliza a quantidade de masculino e feminino existe dentro de uma lista.\n",
    "      Argumentos:\n",
    "          data_list (lista): Lista com os generos \n",
    "      Retorna:\n",
    "          Uma lista com dos argumentos, onde cada argumento é a quantidade de cada genero sendo: (male_quantidade, female_quantidade)\n",
    "\n",
    "      \"\"\"\n",
    "    male = 0\n",
    "    female = 0\n",
    "    for gender in data_list:\n",
    "        if gender[-2] == \"Male\":\n",
    "            male = male + 1\n",
    "        elif gender[-2] == \"Female\":\n",
    "            female = female + 1\n",
    "    return [male, female]\n",
    "\n",
    "\n",
    "\n",
    "print(\"\\nTAREFA 5: Imprimindo o resultado de count_gender\")\n",
    "print(count_gender(data_list))\n",
    "\n",
    "# ------------ NÃO MUDE NENHUM CÓDIGO AQUI ------------\n",
    "assert type(count_gender(data_list)) is list, \"TAREFA 5: Tipo incorreto retornado. Deveria retornar uma lista.\"\n",
    "assert len(count_gender(data_list)) == 2, \"TAREFA 5: Tamanho incorreto retornado.\"\n",
    "assert count_gender(data_list)[0] == 935854 and count_gender(data_list)[1] == 298784, \"TAREFA 5: Resultado incorreto no retorno!\"\n",
    "# -----------------------------------------------------\n",
    "\n",
    "input(\"Aperte Enter para continuar...\")"
   ]
  },
  {
   "cell_type": "code",
   "execution_count": 8,
   "metadata": {},
   "outputs": [
    {
     "name": "stdout",
     "output_type": "stream",
     "text": [
      "\n",
      "TAREFA 6: Qual é o gênero mais popular na lista?\n",
      "O gênero mais popular na lista é:  Male\n",
      "Aperte Enter para continuar...\n"
     ]
    },
    {
     "data": {
      "text/plain": [
       "''"
      ]
     },
     "execution_count": 8,
     "metadata": {},
     "output_type": "execute_result"
    }
   ],
   "source": [
    "# TAREFA 6\n",
    "# TODO: Crie uma função que pegue o gênero mais popular, e retorne este gênero como uma string.\n",
    "# Esperamos ver \"Masculino\", \"Feminino\", ou \"Igual\" como resposta.\n",
    "def most_popular_gender(data_list):\n",
    "    \"\"\"\n",
    "      Função que valida qual genero é mais popular ou se são iguais.\n",
    "      Argumentos:\n",
    "          data_list: é uma lista que contém todos os generos do data set.\n",
    "          \n",
    "      Retorna:\n",
    "          uma string com o nome do genero mais popular ( Male, Female ou Equal)\n",
    "\n",
    "      \"\"\"\n",
    "    male, female = count_gender(data_list)\n",
    "    if male > female:\n",
    "        answer = \"Male\"\n",
    "    elif male < female:\n",
    "        answer = \"Female\"\n",
    "    else:\n",
    "        answer = \"Equal\"\n",
    "    return answer\n",
    "\n",
    "\n",
    "print(\"\\nTAREFA 6: Qual é o gênero mais popular na lista?\")\n",
    "print(\"O gênero mais popular na lista é: \", most_popular_gender(data_list))\n",
    "\n",
    "# ------------ NÃO MUDE NENHUM CÓDIGO AQUI ------------\n",
    "assert type(most_popular_gender(data_list)) is str, \"TAREFA 6: Tipo incorreto no retorno. Deveria retornar uma string.\"\n",
    "assert most_popular_gender(data_list) == \"Male\", \"TAREFA 6: Resultado de retorno incorreto!\"\n",
    "# -----------------------------------------------------\n",
    "\n",
    "input(\"Aperte Enter para continuar...\")"
   ]
  },
  {
   "cell_type": "code",
   "execution_count": 9,
   "metadata": {},
   "outputs": [
    {
     "data": {
      "image/png": "[encoded data removed]",
      "text/plain": [
       "<Figure size 432x288 with 1 Axes>"
      ]
     },
     "metadata": {},
     "output_type": "display_data"
    },
    {
     "name": "stdout",
     "output_type": "stream",
     "text": [
      "Aperte Enter para continuar...\n"
     ]
    },
    {
     "data": {
      "text/plain": [
       "''"
      ]
     },
     "execution_count": 9,
     "metadata": {},
     "output_type": "execute_result"
    }
   ],
   "source": [
    "# Se tudo está rodando como esperado, verifique este gráfico!\n",
    "gender_list = column_to_list(data_list, -2)\n",
    "types = [\"Masculino\", \"Feminino\"]\n",
    "quantity = count_gender(data_list)\n",
    "y_pos = list(range(len(types)))\n",
    "plt.bar(y_pos, quantity)\n",
    "plt.ylabel('Quantidade')\n",
    "plt.xlabel('Gênero')\n",
    "plt.xticks(y_pos, types)\n",
    "plt.title('Quantidade por Gênero')\n",
    "plt.show(block=True)\n",
    "\n",
    "input(\"Aperte Enter para continuar...\")"
   ]
  },
  {
   "cell_type": "code",
   "execution_count": 10,
   "metadata": {},
   "outputs": [
    {
     "name": "stdout",
     "output_type": "stream",
     "text": [
      "\n",
      "TAREFA 7: Verifique o gráfico!\n"
     ]
    },
    {
     "data": {
      "image/png": "[encoded data removed]",
      "text/plain": [
       "<Figure size 432x288 with 1 Axes>"
      ]
     },
     "metadata": {},
     "output_type": "display_data"
    },
    {
     "name": "stdout",
     "output_type": "stream",
     "text": [
      "Aperte Enter para continuar...\n"
     ]
    },
    {
     "data": {
      "text/plain": [
       "''"
      ]
     },
     "execution_count": 10,
     "metadata": {},
     "output_type": "execute_result"
    }
   ],
   "source": [
    "# TAREFA 7\n",
    "# TODO: Crie um gráfico similar para user_types. Tenha certeza que a legenda está correta.\n",
    "print(\"\\nTAREFA 7: Verifique o gráfico!\")\n",
    "\n",
    "\n",
    "\n",
    "user_type_list = column_to_list(data_list, -3)\n",
    "types = [\"Customer\", \"Subscriber\"] \n",
    "#quantity = [user_type_list.count(\"Subscriber\"), user_type_list.count(\"Customer\")]\n",
    "quantity = [len([customer[-3] for customer in data_list if customer[-3] == \"Subscriber\"]), len([customer[-3] for customer in data_list if customer[-3] == \"Customer\"])]\n",
    "y_pos = list(range(len(types)))\n",
    "plt.bar(y_pos, quantity)\n",
    "plt.ylabel('Quantidade')\n",
    "plt.xlabel('User Type')\n",
    "plt.xticks(y_pos, types)\n",
    "plt.title('Quantidade por User Type')\n",
    "plt.show(block=True)\n",
    "\n",
    "input(\"Aperte Enter para continuar...\")"
   ]
  },
  {
   "cell_type": "code",
   "execution_count": 11,
   "metadata": {},
   "outputs": [
    {
     "name": "stdout",
     "output_type": "stream",
     "text": [
      "\n",
      "TAREFA 8: Por que a condição a seguir é Falsa?\n",
      "male + female == len(data_list): False\n",
      "\n",
      "resposta: \n",
      "Aperte Enter para continuar...\n"
     ]
    },
    {
     "data": {
      "text/plain": [
       "''"
      ]
     },
     "execution_count": 11,
     "metadata": {},
     "output_type": "execute_result"
    }
   ],
   "source": [
    "# TAREFA 8\n",
    "# TODO: Responda a seguinte questão\n",
    "male, female = count_gender(data_list)\n",
    "print(\"\\nTAREFA 8: Por que a condição a seguir é Falsa?\")\n",
    "print(\"male + female == len(data_list):\", male + female == len(data_list))\n",
    "answer = input() #\"Escreva sua resposta aqui.\"\n",
    "print(\"resposta:\", answer)\n",
    "\n",
    "# ------------ NÃO MUDE NENHUM CÓDIGO AQUI ------------\n",
    "assert answer != \"Escreva sua resposta aqui.\", \"TAREFA 8: Escreva sua própria resposta!\"\n",
    "# -----------------------------------------------------\n",
    "\n",
    "input(\"Aperte Enter para continuar...\")"
   ]
  },
  {
   "cell_type": "code",
   "execution_count": 12,
   "metadata": {},
   "outputs": [
    {
     "name": "stdout",
     "output_type": "stream",
     "text": [
      "\n",
      "TAREFA 9: Imprimindo o mínimo, máximo, média, e mediana\n",
      "Min:  60 Max:  86338 Média:  939.7777590146342 Mediana:  670\n",
      "Aperte Enter para continuar...\n"
     ]
    },
    {
     "data": {
      "text/plain": [
       "''"
      ]
     },
     "execution_count": 12,
     "metadata": {},
     "output_type": "execute_result"
    }
   ],
   "source": [
    "# Vamos trabalhar com trip_duration (duração da viagem) agora. Não conseguimos tirar alguns valores dele.\n",
    "# TAREFA 9\n",
    "# TODO: Ache a duração de viagem Mínima, Máxima, Média, e Mediana.\n",
    "# Você não deve usar funções prontas parTODO isso, como max() e min().\n",
    "\n",
    "trip_duration_list = list(map(int, column_to_list(data_list, 2)))\n",
    "list_size = len(trip_duration_list)\n",
    "trip_duration_list.sort()\n",
    "\n",
    "total_trip = 0\n",
    "for x in list(map(int, column_to_list(data_list, 2))):\n",
    "    total_trip = total_trip + x\n",
    "\n",
    "if list_size%2 == 0:\n",
    "    median_trip = (trip_duration_list[list_size // 2 - 1] + trip_duration_list[list_size // 2]) / 2\n",
    "else:\n",
    "    median_trip = trip_duration_list[list_size // 2]\n",
    "min_trip = trip_duration_list[0]\n",
    "max_trip = trip_duration_list[-1]\n",
    "mean_trip = total_trip/list_size\n",
    "\n",
    "print(\"\\nTAREFA 9: Imprimindo o mínimo, máximo, média, e mediana\")\n",
    "print(\"Min: \", min_trip, \"Max: \", max_trip, \"Média: \", mean_trip, \"Mediana: \", median_trip)\n",
    "\n",
    "# ------------ NÃO MUDE NENHUM CÓDIGO AQUI ------------\n",
    "assert round(min_trip) == 60, \"TAREFA 9: min_trip com resultado errado!\"\n",
    "assert round(max_trip) == 86338, \"TAREFA 9: max_trip com resultado errado!\"\n",
    "assert round(mean_trip) == 940, \"TAREFA 9: mean_trip com resultado errado!\"\n",
    "assert round(median_trip) == 670, \"TAREFA 9: median_trip com resultado errado!\"\n",
    "# -----------------------------------------------------\n",
    "\n",
    "input(\"Aperte Enter para continuar...\")"
   ]
  },
  {
   "cell_type": "code",
   "execution_count": 13,
   "metadata": {
    "scrolled": true
   },
   "outputs": [
    {
     "name": "stdout",
     "output_type": "stream",
     "text": [
      "\n",
      "TAREFA 10: Imprimindo as start stations:\n",
      "582\n",
      "{'Racine Ave & Congress Pkwy', 'State St & 19th St', 'Damen Ave & Leland Ave', 'Southport Ave & Clark St', 'Marine Dr & Ainslie St', 'Lake Shore Dr & Diversey Pkwy', 'Troy St & North Ave', 'Sheridan Rd & Montrose Ave', 'Cicero Ave & Lake St', 'California Ave & 23rd Pl', 'Western Ave & Congress Pkwy', 'Western Ave & Lunt Ave', 'Hoyne Ave & 47th St', 'South Shore Dr & 67th St', 'Oakley Ave & Roscoe St', 'Harper Ave & 59th St', 'Damen Ave & 59th St', 'Kedzie Ave & Lake St', 'Throop St & 52nd St', 'Wabash Ave & 16th St', 'Halsted St & Roscoe St', 'Michigan Ave & Madison St', 'Damen Ave & Madison St', 'Chicago Ave & Washington St', 'Western Ave & Winnebago Ave', 'Elmwood Ave & Austin St', 'Clark St & Lincoln Ave', 'Commercial Ave & 83rd St', 'Ashland Ave & Chicago Ave', 'Racine Ave & Belmont Ave', 'Morgan St & Polk St', 'Clinton St & 18th St', 'Paulina St & Howard St', 'Humboldt Blvd & Armitage Ave', 'Larrabee St & Armitage Ave', 'Indiana Ave & 40th St', 'Cottage Grove Ave & 47th St', 'Damen Ave & Sunnyside Ave', 'Normal Ave & 72nd St', 'Canal St & Harrison St', 'Ashland Ave & Belle Plaine Ave', 'Ridgeland Ave & Lake St', 'Ashland Ave & McDowell Ave', 'Central St Metra', 'Rush St & Cedar St', 'LaSalle St & Jackson Blvd', 'May St & 69th St', 'Lake Park Ave & 56th St', 'Racine Ave & 61st St', 'Lakeview Ave & Fullerton Pkwy', 'Francisco Ave & Foster Ave', 'Vernon Ave & 75th St', 'Clark St & Chicago Ave', 'Broadway & Cornelia Ave', 'Pulaski Rd & Madison St', 'Lake Park Ave & 53rd St', 'Ashland Ave & Harrison St', 'Clarendon Ave & Junior Ter', 'Streeter Dr & Grand Ave', 'Talman Ave & Addison St', 'Clark St & 9th St (AMLI)', 'Wabash Ave & Roosevelt Rd', 'LaSalle St & Adams St', 'Central Ave & Lake St', 'Albany Ave & Bloomingdale Ave', 'Southport Ave & Clybourn Ave', 'Lake Shore Dr & Ohio St', 'State St & 76th St', 'Orleans St & Merchandise Mart Plaza', 'Rhodes Ave & 32nd St', 'Perry Ave & 69th St', 'Halsted St & Roosevelt Rd', 'Milwaukee Ave & Grand Ave', 'Exchange Ave & 79th St', 'Wabash Ave & Adams St', 'Paulina St & Montrose Ave', 'Washtenaw Ave & Lawrence Ave', 'Washtenaw Ave & 15th St (*)', 'Clark St & Lake St', 'Central Ave & Chicago Ave', 'Larrabee St & North Ave', 'Spaulding Ave & Armitage Ave', 'Marion St & South Blvd', 'Dearborn St & Monroe St', '900 W Harrison St', 'Seeley Ave & Roscoe St', 'Halsted St & Dickens Ave', 'Yates Blvd & 75th St', 'Clark St & Columbia Ave', 'Racine Ave & Wrightwood Ave', 'Clinton St & Jackson Blvd', 'Franklin St & Lake St', 'Cottage Grove Ave & 43rd St', 'Jeffery Blvd & 67th St', 'Cottage Grove Ave & 78th St', 'Shore Dr & 55th St', 'Leavitt St & Lawrence Ave', 'Jeffery Blvd & 76th St', 'Halsted St & 35th St (*)', 'Pulaski Rd & Congress Pkwy', 'Sedgwick St & Huron St', 'Spaulding Ave & Division St', 'Monticello Ave & Irving Park Rd', 'Manor Ave & Leland Ave', 'Wood St & Hubbard St', 'Racine Ave & 15th St', 'Maplewood Ave & Peterson Ave', 'Clinton St & Washington Blvd', 'State St & 33rd St', 'Ashland Ave & 13th St', 'Kilbourn Ave & Milwaukee Ave', 'Calumet Ave & 18th St', 'Sheffield Ave & Wellington Ave', 'Milwaukee Ave & Wabansia Ave', 'MLK Jr Dr & 29th St', 'Leavitt St & Archer Ave', 'Sangamon St & Washington Blvd (*)', 'Damen Ave & Division St', 'Loomis St & Archer Ave', 'Pine Grove Ave & Waveland Ave', 'Michigan Ave & Congress Pkwy', 'Halsted St & 56th St', 'State St & Pershing Rd', 'Ashland Ave & Division St', 'Western Ave & Division St', 'East Ave & Madison St', 'Clinton St & Roosevelt Rd', 'Franklin St & Monroe St', 'Cuyler Ave & Augusta St', 'State St & Harrison St', 'Phillips Ave & 79th St', 'Clark St & Elmdale Ave', 'Glenwood Ave & Touhy Ave', 'Wells St & Evergreen Ave', 'Morgan St & Pershing Rd', 'Clark St & Elm St', 'Racine Ave & Garfield Blvd', 'Stony Island Ave & 75th St', 'Aberdeen St & Monroe St', 'Kenton Ave & Madison St', 'St. Louis Ave & Balmoral Ave', 'Kingsbury St & Kinzie St', 'Desplaines St & Randolph St', 'Ashland Ave & Archer Ave', 'California Ave & Division St', 'California Ave & Lake St', 'MLK Jr Dr & 63rd St', 'MLK Jr Dr & 56th St (*)', 'Cicero Ave & Quincy St', 'California Ave & 21st St', 'California Ave & Altgeld St', 'Kostner Ave & Lake St', 'Wilton Ave & Diversey Pkwy', 'Damen Ave & Pershing Rd', 'McClurg Ct & Erie St', 'Calumet Ave & 71st St', 'California Ave & North Ave', 'Oakley Ave & Irving Park Rd', 'Southport Ave & Wrightwood Ave', 'Clark St & Grace St', 'Halsted St & Maxwell St', 'Dearborn St & Erie St', 'Ravenswood Ave & Balmoral Ave', 'Damen Ave & Augusta Blvd', 'Cottage Grove Ave & 67th St', 'Broadway & Argyle St', 'Bennett Ave & 79th St', 'Cicero Ave & Flournoy St', 'Wallace St & 35th St', 'Indiana Ave & 31st St', 'Albany (Kedzie) Ave & Montrose Ave', 'Jeffery Blvd & 71st St', 'Kedzie Ave & Harrison St', 'Ravenswood Ave & Berteau Ave', 'Ashland Ave & Grand Ave', 'South Shore Dr & 74th St', 'Humphrey Ave & Ontario St', 'Halsted St & 59th St', 'Laramie Ave & Gladys Ave', 'Ravenswood Ave & Montrose Ave (*)', 'Buckingham Fountain', 'Ashland Ave & Lake St', 'Broadway & Barry Ave', 'Wabash Ave & 87th St', 'Kingsbury St & Erie St', 'Wells St & Walton St', 'Clark St & Wrightwood Ave', 'Field Museum', 'Wells St & Concord Ln', 'Wood St & Taylor St', 'California Ave & Cortez St', 'Ogden Ave & Roosevelt Rd', 'Blue Island Ave & 18th St', 'Stony Island Ave & 71st St', 'Emerald Ave & 31st St', 'Normal Ave & Archer Ave', 'Warren Park East', 'Eckhart Park', 'Larrabee St & Menomonee St', 'State St & Randolph St', 'Rush St & Superior St', 'Loomis St & Lexington St', 'Dorchester Ave & 49th St', 'Union Ave & Root St', 'Ashland Ave & Augusta Blvd', 'California Ave & Francis Pl', 'Drake Ave & Fullerton Ave', 'Canal St & Monroe St (*)', 'Lombard Ave & Garfield St', 'Ashland Ave & 66th St', 'Lakefront Trail & Bryn Mawr Ave', 'Artesian Ave & Hubbard St', 'May St & Cullerton St', 'Halsted St & Diversey Pkwy', 'Clifton Ave & Armitage Ave', 'Larrabee St & Kingsbury St', 'Michigan Ave & Washington St', 'Sheridan Rd & Buena Ave', 'Morgan St & 18th St', 'Desplaines St & Kinzie St', 'Clark St & North Ave', 'Central Park Blvd & 5th Ave', 'Racine Ave (May St) & Fulton St', 'Ashland Ave & Wrightwood Ave', 'Broadway & Thorndale Ave', 'Michigan Ave & Oak St', 'Michigan Ave & Pearson St', 'Keystone Ave & Montrose Ave', 'Campbell Ave & North Ave', 'Ravenswood Ave & Irving Park Rd', 'Damen Ave & Wellington Ave', 'Loomis St & Taylor St (*)', 'Michigan Ave & 8th St', 'Calumet Ave & 33rd St', 'Halsted St & Polk St', 'Southport Ave & Belmont Ave', 'Clark St & Touhy Ave', 'Ashland Ave & 50th St', 'Ellis Ave & 60th St', 'Mies van der Rohe Way & Chicago Ave', 'Lincoln Ave & Waveland Ave', 'Bosworth Ave & Howard St', 'Campbell Ave & Montrose Ave', 'Emerald Ave & 28th St', 'Greenwood Ave & 79th St', 'Eastlake Ter & Rogers Ave', 'Shields Ave & 31st St', 'Wolcott Ave & Fargo Ave', 'Ashland Ave & Grace St', 'Broadway & Sheridan Rd', 'Southport Ave & Wellington Ave', 'Broadway & Granville Ave', 'Central Park Ave & Elbridge Ave', 'Dodge Ave & Church St', 'Austin Blvd & Chicago Ave', '63rd St Beach', 'St. Clair St & Erie St', 'East Ave & Garfield St', 'Southport Ave & Irving Park Rd', 'McClurg Ct & Illinois St', 'Ogden Ave & Congress Pkwy', 'Halsted St & Blackhawk St (*)', 'Marshfield Ave & 59th St', 'Wilton Ave & Belmont Ave', 'Leavitt St & Addison St', 'Bissell St & Armitage Ave', 'Western Ave & Granville Ave', 'Stony Island Ave & 64th St', 'Cottage Grove Ave & 83rd St', 'Sheffield Ave & Willow St', 'Prairie Ave & Garfield Blvd', 'Kedzie Ave & Bryn Mawr Ave', 'Wentworth Ave & 35th St', 'Stony Island Ave & 67th St', 'Halsted St & Archer Ave', 'LaSalle St & Washington St', 'Carpenter St & Huron St', 'Ellis Ave & 58th St', 'Franklin St & Quincy St', 'Lake Shore Dr & Wellington Ave', 'Woodlawn Ave & Lake Park Ave', 'Morgan Ave & 14th Pl', 'Kedzie Ave & Milwaukee Ave', 'Damen Ave & Clybourn Ave', 'Kedzie Ave & Palmer Ct', 'Southport Ave & Roscoe St', 'Avondale Ave & Irving Park Rd', 'Western Ave & 24th St', 'Sacramento Blvd & Franklin Blvd', 'LaSalle St & Illinois St', 'Sawyer Ave & Irving Park Rd', 'Western Blvd & 48th Pl', 'Columbus Dr & Randolph St', 'Damen Ave & Foster Ave', 'Ashland Ave & Blackhawk St', 'Prairie Ave & 43rd St', 'Ellis Ave & 83rd St', 'Clark St & Armitage Ave', 'Logan Blvd & Elston Ave', 'Clark St & Wellington Ave', 'Western Ave & Leland Ave', 'Knox Ave & Montrose Ave', 'Evans Ave & 75th St', 'Sedgwick St & Schiller St', 'Oak Park Ave & South Blvd', 'Pulaski Rd & Lake St', 'Franklin St & Jackson Blvd', 'Larrabee St & Webster Ave', 'Clark St & Schiller St', 'Orleans St & Chestnut St (NEXT Apts)', 'Damen Ave & Chicago Ave', 'Shields Ave & 43rd St', 'Damen Ave & 51st St', 'Wacker Dr & Washington St', 'Racine Ave & Randolph St', 'Halsted St & North Branch St', 'Hampden Ct & Diversey Pkwy', 'Museum of Science and Industry', 'Kilbourn Ave & Irving Park Rd', 'Greenview Ave & Fullerton Ave', 'Eberhart Ave & 61st St', 'Sheridan Rd & Greenleaf Ave', 'Indiana Ave & 26th St', 'Richmond St & Diversey Ave', 'California Ave & Milwaukee Ave', 'Racine Ave & Fullerton Ave', 'Clinton St & Madison St', 'Clarendon Ave & Leland Ave', 'Franklin St & Chicago Ave', 'State St & Kinzie St', 'Federal St & Polk St', 'Stetson Ave & South Water St', 'Valli Produce - Evanston Plaza', 'Kedzie Ave & 24th St', 'Clinton St & Polk St (*)', 'Dayton St & North Ave', 'Central Ave & Madison St', 'State St & Van Buren St', 'Calumet Ave & 35th St', 'Sheridan Rd & Irving Park Rd', 'Lincoln Ave & Addison St', 'Glenwood Ave & Morse Ave', 'Marshfield Ave & 44th St', 'State St & 29th St', 'Cornell Ave & Hyde Park Blvd', 'Saginaw Ave & Exchange Ave', 'Wabash Ave & Cermak Rd', 'Clark St & Berwyn Ave', 'Ridge Blvd & Touhy Ave', 'Stave St & Armitage Ave', 'Orleans St & Elm St (*)', 'Montrose Harbor', 'Forest Ave & Chicago Ave', 'DuSable Museum', 'Kosciuszko Park', 'Damen Ave & Grand Ave', 'Adler Planetarium', 'Rush St & Hubbard St', 'Sheffield Ave & Fullerton Ave', 'Lombard Ave & Madison St', 'Ashland Ave & 69th St', 'Sheridan Rd & Loyola Ave', 'Southport Ave & Waveland Ave', 'Halsted St & Wrightwood Ave', 'Cityfront Plaza Dr & Pioneer Ct', 'MLK Jr Dr & Oakwood Blvd', 'Sedgwick St & Webster Ave', 'Kedzie Ave & Chicago Ave', 'Halsted St & 69th St', 'Financial Pl & Congress Pkwy', 'Ashland Ave & Pershing Rd', 'Jefferson St & Monroe St', 'Clark St & Leland Ave', 'Western Ave & 21st St', 'Kedzie Ave & 21st St', 'University Ave & 57th St', 'Clarendon Ave & Gordon Ter', 'California Ave & 26th St', 'Damen Ave & Melrose Ave', 'Central Ave & Harrison St', 'Central Park Ave & North Ave', 'Clybourn Ave & Division St', 'Lincoln Ave & Leavitt St', 'Michigan Ave & 14th St', 'MLK Jr Dr & 47th St', 'Halsted St & 21st St', 'Lincoln Ave & Winona St', 'Lincoln Ave & Fullerton Ave', 'Morgan St & Lake St', 'Claremont Ave & Hirsch St', 'Wabash Ave & Grand Ave', 'Green St & Randolph St', 'Halsted St & 51st St', 'Lincoln Ave & Diversey Pkwy', 'Sheffield Ave & Waveland Ave', 'Broadway & Waveland Ave', 'Campbell Ave & Fullerton Ave', 'Broadway & Belmont Ave', 'Paulina Ave & North Ave', 'California Ave & Montrose Ave', 'Shedd Aquarium', 'Hermitage Ave & Polk St', 'Sheffield Ave & Webster Ave', 'Albany Ave & 26th St', 'Milwaukee Ave & Cuyler Ave', 'Racine Ave & 65th St', 'Rockwell St & Eastwood Ave', 'Conservatory Dr & Lake St', 'Canal St & Madison St', 'Larrabee St & Division St', 'Sheridan Rd & Noyes St (NU)', 'State St & Pearson St', 'Rainbow Beach', 'Marshfield Ave & Cortland St', 'Clinton St & Lake St', 'Orleans St & Ohio St', 'Blackstone Ave & Hyde Park Blvd', '2112 W Peterson Ave', 'Greenwood Ave & 47th St', 'Canal St & Adams St', 'Cottage Grove Ave & 63rd St', 'California Ave & Fletcher St', 'Mason Ave & Madison St', 'Clark St & Bryn Mawr Ave', 'Warren Park West', 'Elston Ave & Wabansia Ave', 'Larrabee St & Oak St', 'Damen Ave & Charleston St', 'Calumet Ave & 21st St', 'Elizabeth St & 47th St', 'Millennium Park', 'Daley Center Plaza', 'Clark St & Schreiber Ave', 'State St & 79th St', 'Forest Ave & Lake St', 'South Chicago Ave & 83rd St', 'Michigan Ave & Jackson Blvd', 'Kostner Ave & Adams St', 'Aberdeen St & Jackson Blvd', 'Christiana Ave & Lawrence Ave', 'Laramie Ave & Kinzie St', 'Cottage Grove Ave & Oakwood Blvd', 'Cottage Grove Ave & 71st St', 'Wentworth Ave & 24th St', 'Desplaines St & Jackson Blvd', 'Clark St & Winnemac Ave', 'Racine Ave & 13th St', 'Ellis Ave & 55th St', 'Woodlawn Ave & 55th St', 'State St & 35th St', 'Lincoln Ave & Roscoe St', 'Wabash Ave & 8th St', 'Wentworth Ave & 63rd St', 'Ritchie Ct & Banks St', 'Halsted St & 37th St', 'Oakley Ave & Touhy Ave', 'Laramie Ave & Madison St', 'Damen Ave & Pierce Ave', 'Cottage Grove Ave & 51st St', 'Lake Park Ave & 47th St', 'Lake Park Ave & 35th St', 'Leavitt St & North Ave', 'Kimball Ave & Belmont Ave', 'Theater on the Lake', 'Field Blvd & South Water St', 'Broadway & Wilson Ave', 'Ellis Ave & 53rd St', 'Shields Ave & 28th Pl', 'Ogden Ave & Chicago Ave', 'Ashland Ave & 63rd St', 'Clark St & Randolph St', 'Austin Blvd & Lake St', 'Oak Park Ave & Harrison St', 'Woodlawn Ave & 75th St', 'Wood St & 35th St', 'Michigan Ave & Lake St', 'Princeton Ave & 47th St', 'MLK Jr Dr & 83rd St', 'Lake Shore Dr & North Blvd', 'Broadway & Berwyn Ave', 'Millard Ave & 26th St', 'Clark St & Montrose Ave', 'Dusable Harbor', 'Noble St & Milwaukee Ave', 'Pine Grove Ave & Irving Park Rd', 'Mies van der Rohe Way & Chestnut St', 'Greenview Ave & Diversey Pkwy', 'Budlong Woods Library', 'California Ave & Byron St', 'Lawndale Ave & 23rd St', 'Greenview Ave & Jarvis Ave', 'Sedgwick St & North Ave', 'Halsted St & 18th St', 'Clark St & Lunt Ave', 'Leavitt St & Armitage Ave', 'Drake Ave & Montrose Ave', 'Racine Ave & 18th St', 'Seeley Ave & Garfield Blvd', 'Ravenswood Ave & Lawrence Ave', 'Winchester Ave & Elston Ave', 'Wolcott Ave & Polk St', 'Peoria St & Jackson Blvd', 'Wentworth Ave & 33rd St', 'Ashland Ave & Garfield Blvd', 'Wentworth Ave & Archer Ave', 'Wabash Ave & 83rd St', 'Indiana Ave & Roosevelt Rd', 'Lake Shore Dr & Belmont Ave', 'Stockton Dr & Wrightwood Ave', 'Princeton Ave & Garfield Blvd', 'Western Ave & Walton St', 'Troy St & Elston Ave', 'South Shore Dr & 71st St', 'Sheffield Ave & Wrightwood Ave', 'Stony Island Ave & 82nd St', 'Fort Dearborn Dr & 31st St', 'Western Ave & Monroe St', 'Paulina St & 18th St', 'Broadway & Ridge Ave', 'Green St & Madison St', 'Stony Island Ave & South Chicago Ave', 'Central St & Girard Ave', 'Sheffield Ave & Kingsbury St', 'Pulaski Rd & Eddy St', 'Ridge Blvd & Howard St', 'Western Ave & 28th St', 'Ashland Ave & Wellington Ave', 'Clark St & Jarvis Ave', 'Clifton Ave & Lawrence Ave', 'Dearborn St & Adams St', 'Canal St & Taylor St', 'Dorchester Ave & 63rd St', 'Fairbanks Ct & Grand Ave', 'Damen Ave & Coulter St', 'Milwaukee Ave & Rockwell St', 'Wood St & Milwaukee Ave', 'Avers Ave & Belmont Ave', 'Wells St & Huron St', 'Sheridan Rd & Lawrence Ave', 'Halsted St & 47th Pl', 'Kedzie Ave & Foster Ave', 'Ada St & Washington Blvd', 'Wabash Ave & Wacker Pl', 'Morgan St & 31st St', 'Wood St & Division St', 'Lincoln Ave & Belmont Ave', 'Central Park Ave & Ogden Ave', 'Wells St & Polk St', 'Wells St & 19th St', 'Western Ave & Howard St', 'Kedzie Ave & Roosevelt Rd', 'Drake Ave & Addison St', 'Wisconsin Ave & Madison St', 'Kimbark Ave & 53rd St', 'Loomis St & Jackson Blvd', 'Clark St & Congress Pkwy', 'McCormick Place', 'Fairfield Ave & Roosevelt Rd', 'Halsted St & 63rd St', 'Keystone Ave & Fullerton Ave', 'Benson Ave & Church St', 'Kedzie Ave & Leland Ave', 'Lincoln Ave & Belle Plaine Ave', 'Calumet Ave & 51st St', 'Lake Shore Dr & Monroe St', 'May St & Taylor St', 'Phillips Ave & 82nd St', 'Clinton St & Tilden St', 'Damen Ave & Cullerton St', 'Vernon Ave & 79th St', 'University Library (NU)', 'Halsted St & Willow St', 'Chicago Ave & Sheridan Rd', 'Racine Ave & 35th St', 'Dearborn Pkwy & Delaware Pl', 'Ogden Ave & Race Ave', 'Michigan Ave & 18th St', 'Wells St & Elm St', 'Burnham Harbor', 'Cannon Dr & Fullerton Ave', 'Damen Ave & Cortland St', 'Ashland Ave & 21st St'}\n"
     ]
    },
    {
     "name": "stdout",
     "output_type": "stream",
     "text": [
      "Aperte Enter para continuar...\n"
     ]
    },
    {
     "data": {
      "text/plain": [
       "''"
      ]
     },
     "execution_count": 13,
     "metadata": {},
     "output_type": "execute_result"
    }
   ],
   "source": [
    "# TAREFA 10\n",
    "# Gênero é fácil porque nós temos apenas algumas opções. E quanto a start_stations? Quantas opções ele tem?\n",
    "# TODO: Verifique quantos tipos de start_stations nós temos, usando set()\n",
    "user_types = set(column_to_list(data_list, 3))\n",
    "\n",
    "print(\"\\nTAREFA 10: Imprimindo as start stations:\")\n",
    "print(len(user_types))\n",
    "print(user_types)\n",
    "\n",
    "# ------------ NÃO MUDE NENHUM CÓDIGO AQUI ------------\n",
    "assert len(user_types) == 582, \"TAREFA 10: Comprimento errado de start stations.\"\n",
    "# -----------------------------------------------------\n",
    "input(\"Aperte Enter para continuar...\")"
   ]
  },
  {
   "cell_type": "code",
   "execution_count": 14,
   "metadata": {},
   "outputs": [],
   "source": [
    "# TAREFA 11\n",
    "# Volte e tenha certeza que você documenteou suas funções. Explique os parâmetros de entrada, a saída, e o que a função faz. Exemplo:\n",
    "def new_function(param1: int, param2: str) -> list:\n",
    "      \"\"\"\n",
    "      Função de exemplo com anotações.\n",
    "      Argumentos:\n",
    "          param1: O primeiro parâmetro.\n",
    "          param2: O segundo parâmetro.\n",
    "      Retorna:\n",
    "          Uma lista de valores x.\n",
    "\n",
    "      \"\"\"\n"
   ]
  },
  {
   "cell_type": "code",
   "execution_count": 15,
   "metadata": {},
   "outputs": [
    {
     "name": "stdout",
     "output_type": "stream",
     "text": [
      "Você vai encarar o desafio? (yes ou no)\n",
      "\n",
      "TAREFA 11: Imprimindo resultados para count_items()\n",
      "Tipos: ['', 'Male', 'Female'] Counts: [316867, 935854, 298784]\n"
     ]
    }
   ],
   "source": [
    "# TAREFA 12 - Desafio! (Opcional)\n",
    "# TODO: Crie uma função para contar tipos de usuários, sem definir os tipos\n",
    "# para que nós possamos usar essa função com outra categoria de dados.\n",
    "print(\"Você vai encarar o desafio? (yes ou no)\")\n",
    "answer = \"yes\"\n",
    "\n",
    "def count_items(column_list):\n",
    "    \"\"\"\n",
    "      Função que conta quantos itens tem dentro da lista.\n",
    "      Argumentos:\n",
    "          column_list: Lista com todos os itens que possuem no dataset.\n",
    "      Retorna:\n",
    "          Duas listas. A Primeira Lista retorna todos os tipos.\n",
    "                       A segunda lista retorna a quantidade de vezes que possuem os tipos que existem na primeira lista.\n",
    "\n",
    "      \"\"\"\n",
    "    \n",
    "    item_types = list(set(column_list))\n",
    "    count_items = [column_list.count(item_type) for item_type in item_types]\n",
    "\n",
    "    return item_types, count_items\n",
    "\n",
    "\n",
    "if answer == \"yes\":\n",
    "    # ------------ NÃO MUDE NENHUM CÓDIGO AQUI ------------\n",
    "    column_list = column_to_list(data_list, -2)\n",
    "    types, counts = count_items(column_list)\n",
    "    print(\"\\nTAREFA 11: Imprimindo resultados para count_items()\")\n",
    "    print(\"Tipos:\", types, \"Counts:\", counts)\n",
    "    assert len(types) == 3, \"TAREFA 11: Há 3 tipos de gênero!\"\n",
    "    assert sum(counts) == 1551505, \"TAREFA 11: Resultado de retorno incorreto!\"\n",
    "    # -----------------------------------------------------"
   ]
  },
  {
   "cell_type": "code",
   "execution_count": null,
   "metadata": {},
   "outputs": [],
   "source": []
  }
 ],
 "metadata": {
  "kernelspec": {
   "display_name": "Python 3",
   "language": "python",
   "name": "python3"
  },
  "language_info": {
   "codemirror_mode": {
    "name": "ipython",
    "version": 3
   },
   "file_extension": ".py",
   "mimetype": "text/x-python",
   "name": "python",
   "nbconvert_exporter": "python",
   "pygments_lexer": "ipython3",
   "version": "3.6.5"
  }
 },
 "nbformat": 4,
 "nbformat_minor": 2
}
