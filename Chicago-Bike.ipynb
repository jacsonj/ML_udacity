{
 "cells": [
  {
   "cell_type": "code",
   "execution_count": 1,
   "metadata": {},
   "outputs": [],
   "source": [
    "# coding: utf-8\n",
    "\n",
    "# Começando com os imports\n",
    "import csv\n",
    "import matplotlib.pyplot as plt"
   ]
  },
  {
   "cell_type": "code",
   "execution_count": 2,
   "metadata": {},
   "outputs": [
    {
     "name": "stdout",
     "output_type": "stream",
     "text": [
      "Lendo o documento...\n",
      "Ok!\n",
      "Número de linhas:\n",
      "1551506\n",
      "Linha 0: \n",
      "['Start Time', 'End Time', 'Trip Duration', 'Start Station', 'End Station', 'User Type', 'Gender', 'Birth Year']\n",
      "Linha 1: \n",
      "['2017-01-01 00:00:36', '2017-01-01 00:06:32', '356', 'Canal St & Taylor St', 'Canal St & Monroe St (*)', 'Customer', '', '']\n",
      "Aperte Enter para continuar...\n"
     ]
    },
    {
     "data": {
      "text/plain": [
       "''"
      ]
     },
     "execution_count": 2,
     "metadata": {},
     "output_type": "execute_result"
    }
   ],
   "source": [
    "# Vamos ler os dados como uma lista\n",
    "print(\"Lendo o documento...\")\n",
    "with open(\"chicago.csv\", \"r\") as file_read:\n",
    "    reader = csv.reader(file_read)\n",
    "    data_list = list(reader)\n",
    "print(\"Ok!\")\n",
    "\n",
    "# Vamos verificar quantas linhas nós temos\n",
    "print(\"Número de linhas:\")\n",
    "print(len(data_list))\n",
    "\n",
    "# Imprimindo a primeira linha de data_list para verificar se funcionou.\n",
    "print(\"Linha 0: \")\n",
    "print(data_list[0])\n",
    "# É o cabeçalho dos dados, para que possamos identificar as colunas.\n",
    "\n",
    "# Imprimindo a segunda linha de data_list, ela deveria conter alguns dados\n",
    "print(\"Linha 1: \")\n",
    "print(data_list[1])\n",
    "\n",
    "input(\"Aperte Enter para continuar...\")"
   ]
  },
  {
   "cell_type": "code",
   "execution_count": 3,
   "metadata": {
    "scrolled": true
   },
   "outputs": [
    {
     "name": "stdout",
     "output_type": "stream",
     "text": [
      "\n",
      "\n",
      "TAREFA 1: Imprimindo as primeiras 20 amostras\n",
      "['Start Time', 'End Time', 'Trip Duration', 'Start Station', 'End Station', 'User Type', 'Gender', 'Birth Year']\n",
      "['2017-01-01 00:00:36', '2017-01-01 00:06:32', '356', 'Canal St & Taylor St', 'Canal St & Monroe St (*)', 'Customer', '', '']\n",
      "['2017-01-01 00:02:54', '2017-01-01 00:08:21', '327', 'Larrabee St & Menomonee St', 'Sheffield Ave & Kingsbury St', 'Subscriber', 'Male', '1984.0']\n",
      "['2017-01-01 00:06:06', '2017-01-01 00:18:31', '745', 'Orleans St & Chestnut St (NEXT Apts)', 'Ashland Ave & Blackhawk St', 'Subscriber', 'Male', '1985.0']\n",
      "['2017-01-01 00:07:28', '2017-01-01 00:12:51', '323', 'Franklin St & Monroe St', 'Clinton St & Tilden St', 'Subscriber', 'Male', '1990.0']\n",
      "['2017-01-01 00:07:57', '2017-01-01 00:20:53', '776', 'Broadway & Barry Ave', 'Sedgwick St & North Ave', 'Subscriber', 'Male', '1990.0']\n",
      "['2017-01-01 00:10:44', '2017-01-01 00:21:27', '643', 'State St & Kinzie St', 'Wells St & Polk St', 'Subscriber', 'Male', '1970.0']\n",
      "['2017-01-01 00:11:34', '2017-01-01 00:23:47', '733', 'Wabash Ave & Wacker Pl', 'Clinton St & Tilden St', 'Subscriber', 'Male', '1986.0']\n",
      "['2017-01-01 00:14:57', '2017-01-01 00:26:22', '685', 'Daley Center Plaza', 'Canal St & Monroe St (*)', 'Customer', '', '']\n",
      "['2017-01-01 00:15:03', '2017-01-01 00:26:28', '685', 'Daley Center Plaza', 'Canal St & Monroe St (*)', 'Customer', '', '']\n",
      "['2017-01-01 00:17:01', '2017-01-01 00:29:49', '768', 'Dayton St & North Ave', 'Ogden Ave & Chicago Ave', 'Customer', '', '']\n",
      "['2017-01-01 00:17:13', '2017-01-01 11:03:34', '38781', 'Wilton Ave & Diversey Pkwy', 'Halsted St & Wrightwood Ave', 'Subscriber', 'Female', '1988.0']\n",
      "['2017-01-01 00:18:28', '2017-01-01 00:31:05', '757', 'Canal St & Madison St', 'LaSalle St & Illinois St', 'Customer', '', '']\n",
      "['2017-01-01 00:18:50', '2017-01-01 00:21:47', '177', 'Theater on the Lake', 'Lakeview Ave & Fullerton Pkwy', 'Subscriber', 'Male', '1991.0']\n",
      "['2017-01-01 00:23:41', '2017-01-01 00:29:13', '332', 'Halsted St & Maxwell St', 'Halsted St & 18th St', 'Subscriber', 'Male', '1984.0']\n",
      "['2017-01-01 00:25:47', '2017-01-01 00:39:53', '846', 'Ravenswood Ave & Lawrence Ave', 'Clarendon Ave & Gordon Ter', 'Subscriber', 'Female', '1987.0']\n",
      "['2017-01-01 00:25:47', '2017-01-01 00:43:23', '1056', 'Clark St & Congress Pkwy', 'Wolcott Ave & Polk St', 'Subscriber', 'Male', '1984.0']\n",
      "['2017-01-01 00:26:21', '2017-01-01 00:39:40', '799', 'Ravenswood Ave & Lawrence Ave', 'Clarendon Ave & Gordon Ter', 'Subscriber', 'Male', '1987.0']\n",
      "['2017-01-01 00:27:21', '2017-01-01 00:42:59', '938', 'Millennium Park', 'Michigan Ave & 18th St', 'Subscriber', 'Male', '1991.0']\n",
      "['2017-01-01 00:27:28', '2017-01-01 00:42:44', '916', 'Millennium Park', 'Michigan Ave & 18th St', 'Subscriber', 'Female', '1990.0']\n",
      "Aperte Enter para continuar...\n"
     ]
    },
    {
     "data": {
      "text/plain": [
       "''"
      ]
     },
     "execution_count": 3,
     "metadata": {},
     "output_type": "execute_result"
    }
   ],
   "source": [
    "# TAREFA 1\n",
    "# TODO: Imprima as primeiras 20 linhas usando um loop para identificar os dados.\n",
    "print(\"\\n\\nTAREFA 1: Imprimindo as primeiras 20 amostras\")\n",
    "\n",
    "for value in range(20):\n",
    "    print(data_list[value])\n",
    "input(\"Aperte Enter para continuar...\")"
   ]
  },
  {
   "cell_type": "code",
   "execution_count": 4,
   "metadata": {
    "scrolled": true
   },
   "outputs": [
    {
     "name": "stdout",
     "output_type": "stream",
     "text": [
      "\n",
      "TAREFA 2: Imprimindo o gênero das primeiras 20 amostras\n",
      "Gender\n",
      "\n",
      "Male\n",
      "Male\n",
      "Male\n",
      "Male\n",
      "Male\n",
      "Male\n",
      "\n",
      "\n",
      "\n",
      "Female\n",
      "\n",
      "Male\n",
      "Male\n",
      "Female\n",
      "Male\n",
      "Male\n",
      "Male\n",
      "Female\n",
      "Aperte Enter para continuar...\n"
     ]
    },
    {
     "data": {
      "text/plain": [
       "''"
      ]
     },
     "execution_count": 4,
     "metadata": {},
     "output_type": "execute_result"
    }
   ],
   "source": [
    "# TAREFA 2\n",
    "# TODO: Imprima o `gênero` das primeiras 20 linhas\n",
    "\n",
    "print(\"\\nTAREFA 2: Imprimindo o gênero das primeiras 20 amostras\")\n",
    "\n",
    "for i in range(20):\n",
    "    print(data_list[i][6])\n",
    "\n",
    "input(\"Aperte Enter para continuar...\")"
   ]
  },
  {
   "cell_type": "code",
   "execution_count": 5,
   "metadata": {},
   "outputs": [
    {
     "name": "stdout",
     "output_type": "stream",
     "text": [
      "\n",
      "TAREFA 3: Imprimindo a lista de gêneros das primeiras 20 amostras\n",
      "['', 'Male', 'Male', 'Male', 'Male', 'Male', 'Male', '', '', '', 'Female', '', 'Male', 'Male', 'Female', 'Male', 'Male', 'Male', 'Female', 'Male']\n",
      "Aperte Enter para continuar...\n"
     ]
    },
    {
     "data": {
      "text/plain": [
       "''"
      ]
     },
     "execution_count": 5,
     "metadata": {},
     "output_type": "execute_result"
    }
   ],
   "source": [
    "# TAREFA 3\n",
    "# TODO: Crie uma função para adicionar as colunas(features) de uma lista em outra lista, na mesma ordem\n",
    "def column_to_list(data, index):\n",
    "    \"\"\"\n",
    "      Função que lê todos os dados de uma coluna e retorna como uma lista.\n",
    "      Argumentos:\n",
    "          data: O dataset completo.\n",
    "          param2: A coluna do index.\n",
    "      Retorna:\n",
    "          Uma lista com todos os valores de uma determinada coluna.\n",
    "\n",
    "      \"\"\"\n",
    "    # Dica: Você pode usar um for para iterar sobre as amostras, pegar a feature pelo seu índice, e dar append para uma lista\n",
    "    #next(data)\n",
    "    column_list = [x[index] for x in data[1:]]\n",
    "    return column_list\n",
    "\n",
    "\n",
    "# Vamos checar com os gêneros se isso está funcionando (apenas para os primeiros 20)\n",
    "print(\"\\nTAREFA 3: Imprimindo a lista de gêneros das primeiras 20 amostras\")\n",
    "print(column_to_list(data_list, -2)[:20])\n",
    "\n",
    "# ------------ NÃO MUDE NENHUM CÓDIGO AQUI ------------\n",
    "assert type(column_to_list(data_list, -2)) is list, \"TAREFA 3: Tipo incorreto retornado. Deveria ser uma lista.\"\n",
    "assert len(column_to_list(data_list, -2)) == 1551505, \"TAREFA 3: Tamanho incorreto retornado.\"\n",
    "assert column_to_list(data_list, -2)[0] == \"\" and column_to_list(data_list, -2)[1] == \"Male\", \"TAREFA 3: A lista não coincide.\"\n",
    "# -----------------------------------------------------\n",
    "\n",
    "input(\"Aperte Enter para continuar...\")"
   ]
  },
  {
   "cell_type": "code",
   "execution_count": 6,
   "metadata": {},
   "outputs": [
    {
     "name": "stdout",
     "output_type": "stream",
     "text": [
      "\n",
      "TAREFA 4: Imprimindo quantos masculinos e femininos nós encontramos\n",
      "Masculinos:  935854 \n",
      "Femininos:  298784\n",
      "Aperte Enter para continuar...\n"
     ]
    },
    {
     "data": {
      "text/plain": [
       "''"
      ]
     },
     "execution_count": 6,
     "metadata": {},
     "output_type": "execute_result"
    }
   ],
   "source": [
    "# TAREFA 4\n",
    "# TODO: Conte cada gênero. Você não deveria usar uma função parTODO isso.\n",
    "male = len([gender[-2] for gender in data_list if gender[-2] == \"Male\"])\n",
    "female = len([gender[-2] for gender in data_list if gender[-2] == \"Female\"])\n",
    "\n",
    "\n",
    "# Verificando o resultado\n",
    "print(\"\\nTAREFA 4: Imprimindo quantos masculinos e femininos nós encontramos\")\n",
    "print(\"Masculinos: \", male, \"\\nFemininos: \", female)\n",
    "\n",
    "# ------------ NÃO MUDE NENHUM CÓDIGO AQUI ------------\n",
    "assert male == 935854 and female == 298784, \"TAREFA 4: A conta não bate.\"\n",
    "# -----------------------------------------------------\n",
    "\n",
    "input(\"Aperte Enter para continuar...\")"
   ]
  },
  {
   "cell_type": "code",
   "execution_count": 7,
   "metadata": {},
   "outputs": [
    {
     "name": "stdout",
     "output_type": "stream",
     "text": [
      "\n",
      "TAREFA 5: Imprimindo o resultado de count_gender\n",
      "[935854, 298784]\n",
      "Aperte Enter para continuar...\n"
     ]
    },
    {
     "data": {
      "text/plain": [
       "''"
      ]
     },
     "execution_count": 7,
     "metadata": {},
     "output_type": "execute_result"
    }
   ],
   "source": [
    "# TAREFA 5\n",
    "# TODO: Crie uma função para contar os gêneros. Retorne uma lista.\n",
    "# Isso deveria retornar uma lista com [count_male, count_female] (exemplo: [10, 15] significa 10 Masculinos, 15 Femininos)\n",
    "def count_gender(data_list):\n",
    "    \"\"\"\n",
    "      Função de contador de genero, contabiliza a quantidade de masculino e feminino existe dentro de uma lista.\n",
    "      Argumentos:\n",
    "          data_list (lista): Lista com os generos \n",
    "      Retorna:\n",
    "          Uma lista com dos argumentos, onde cada argumento é a quantidade de cada genero sendo: (male_quantidade, female_quantidade)\n",
    "\n",
    "      \"\"\"\n",
    "    male = 0\n",
    "    female = 0\n",
    "    for gender in data_list:\n",
    "        if gender[-2] == \"Male\":\n",
    "            male = male + 1\n",
    "        elif gender[-2] == \"Female\":\n",
    "            female = female + 1\n",
    "    return [male, female]\n",
    "\n",
    "\n",
    "\n",
    "print(\"\\nTAREFA 5: Imprimindo o resultado de count_gender\")\n",
    "print(count_gender(data_list))\n",
    "\n",
    "# ------------ NÃO MUDE NENHUM CÓDIGO AQUI ------------\n",
    "assert type(count_gender(data_list)) is list, \"TAREFA 5: Tipo incorreto retornado. Deveria retornar uma lista.\"\n",
    "assert len(count_gender(data_list)) == 2, \"TAREFA 5: Tamanho incorreto retornado.\"\n",
    "assert count_gender(data_list)[0] == 935854 and count_gender(data_list)[1] == 298784, \"TAREFA 5: Resultado incorreto no retorno!\"\n",
    "# -----------------------------------------------------\n",
    "\n",
    "input(\"Aperte Enter para continuar...\")"
   ]
  },
  {
   "cell_type": "code",
   "execution_count": 8,
   "metadata": {},
   "outputs": [
    {
     "name": "stdout",
     "output_type": "stream",
     "text": [
      "\n",
      "TAREFA 6: Qual é o gênero mais popular na lista?\n",
      "O gênero mais popular na lista é:  Male\n",
      "Aperte Enter para continuar...\n"
     ]
    },
    {
     "data": {
      "text/plain": [
       "''"
      ]
     },
     "execution_count": 8,
     "metadata": {},
     "output_type": "execute_result"
    }
   ],
   "source": [
    "# TAREFA 6\n",
    "# TODO: Crie uma função que pegue o gênero mais popular, e retorne este gênero como uma string.\n",
    "# Esperamos ver \"Masculino\", \"Feminino\", ou \"Igual\" como resposta.\n",
    "def most_popular_gender(data_list):\n",
    "    \"\"\"\n",
    "      Função que valida qual genero é mais popular ou se são iguais.\n",
    "      Argumentos:\n",
    "          data_list: é uma lista que contém todos os generos do data set.\n",
    "          \n",
    "      Retorna:\n",
    "          uma string com o nome do genero mais popular ( Male, Female ou Equal)\n",
    "\n",
    "      \"\"\"\n",
    "    male, female = count_gender(data_list)\n",
    "    if male > female:\n",
    "        answer = \"Male\"\n",
    "    elif male < female:\n",
    "        answer = \"Female\"\n",
    "    else:\n",
    "        answer = \"Equal\"\n",
    "    return answer\n",
    "\n",
    "\n",
    "print(\"\\nTAREFA 6: Qual é o gênero mais popular na lista?\")\n",
    "print(\"O gênero mais popular na lista é: \", most_popular_gender(data_list))\n",
    "\n",
    "# ------------ NÃO MUDE NENHUM CÓDIGO AQUI ------------\n",
    "assert type(most_popular_gender(data_list)) is str, \"TAREFA 6: Tipo incorreto no retorno. Deveria retornar uma string.\"\n",
    "assert most_popular_gender(data_list) == \"Male\", \"TAREFA 6: Resultado de retorno incorreto!\"\n",
    "# -----------------------------------------------------\n",
    "\n",
    "input(\"Aperte Enter para continuar...\")"
   ]
  },
  {
   "cell_type": "code",
   "execution_count": 9,
   "metadata": {},
   "outputs": [
    {
     "data": {
      "image/png": "[encoded data removed]",
      "text/plain": [
       "<Figure size 432x288 with 1 Axes>"
      ]
     },
     "metadata": {},
     "output_type": "display_data"
    },
    {
     "name": "stdout",
     "output_type": "stream",
     "text": [
      "Aperte Enter para continuar...\n"
     ]
    },
    {
     "data": {
      "text/plain": [
       "''"
      ]
     },
     "execution_count": 9,
     "metadata": {},
     "output_type": "execute_result"
    }
   ],
   "source": [
    "# Se tudo está rodando como esperado, verifique este gráfico!\n",
    "gender_list = column_to_list(data_list, -2)\n",
    "types = [\"Masculino\", \"Feminino\"]\n",
    "quantity = count_gender(data_list)\n",
    "y_pos = list(range(len(types)))\n",
    "plt.bar(y_pos, quantity)\n",
    "plt.ylabel('Quantidade')\n",
    "plt.xlabel('Gênero')\n",
    "plt.xticks(y_pos, types)\n",
    "plt.title('Quantidade por Gênero')\n",
    "plt.show(block=True)\n",
    "\n",
    "input(\"Aperte Enter para continuar...\")"
   ]
  },
  {
   "cell_type": "code",
   "execution_count": 10,
   "metadata": {},
   "outputs": [
    {
     "name": "stdout",
     "output_type": "stream",
     "text": [
      "\n",
      "TAREFA 7: Verifique o gráfico!\n"
     ]
    },
    {
     "data": {
      "image/png": "[encoded data removed]",
      "text/plain": [
       "<Figure size 432x288 with 1 Axes>"
      ]
     },
     "metadata": {},
     "output_type": "display_data"
    },
    {
     "name": "stdout",
     "output_type": "stream",
     "text": [
      "Aperte Enter para continuar...\n"
     ]
    },
    {
     "data": {
      "text/plain": [
       "''"
      ]
     },
     "execution_count": 10,
     "metadata": {},
     "output_type": "execute_result"
    }
   ],
   "source": [
    "# TAREFA 7\n",
    "# TODO: Crie um gráfico similar para user_types. Tenha certeza que a legenda está correta.\n",
    "print(\"\\nTAREFA 7: Verifique o gráfico!\")\n",
    "\n",
    "\n",
    "user_type_list = column_to_list(data_list, -3)\n",
    "types = [\"Male\", \"Female\"] \n",
    "quantity = [user_type_list.count(\"Subscriber\"), user_type_list.count(\"Customer\")]\n",
    "y_pos = list(range(len(types)))\n",
    "plt.bar(y_pos, quantity)\n",
    "plt.ylabel('Quantidade')\n",
    "plt.xlabel('Tipo de usuario')\n",
    "plt.xticks(y_pos, types)\n",
    "plt.title('Quantidade por Tipo de usuários')\n",
    "plt.show(block=True)\n",
    "\n",
    "input(\"Aperte Enter para continuar...\")"
   ]
  },
  {
   "cell_type": "code",
   "execution_count": 11,
   "metadata": {},
   "outputs": [
    {
     "name": "stdout",
     "output_type": "stream",
     "text": [
      "\n",
      "TAREFA 8: Por que a condição a seguir é Falsa?\n",
      "male + female == len(data_list): False\n",
      "\n",
      "resposta: \n",
      "Aperte Enter para continuar...\n"
     ]
    },
    {
     "data": {
      "text/plain": [
       "''"
      ]
     },
     "execution_count": 11,
     "metadata": {},
     "output_type": "execute_result"
    }
   ],
   "source": [
    "# TAREFA 8\n",
    "# TODO: Responda a seguinte questão\n",
    "male, female = count_gender(data_list)\n",
    "print(\"\\nTAREFA 8: Por que a condição a seguir é Falsa?\")\n",
    "print(\"male + female == len(data_list):\", male + female == len(data_list))\n",
    "answer = input() #\"Escreva sua resposta aqui.\"\n",
    "print(\"resposta:\", answer)\n",
    "\n",
    "# ------------ NÃO MUDE NENHUM CÓDIGO AQUI ------------\n",
    "assert answer != \"Escreva sua resposta aqui.\", \"TAREFA 8: Escreva sua própria resposta!\"\n",
    "# -----------------------------------------------------\n",
    "\n",
    "input(\"Aperte Enter para continuar...\")"
   ]
  },
  {
   "cell_type": "code",
   "execution_count": 12,
   "metadata": {},
   "outputs": [
    {
     "name": "stdout",
     "output_type": "stream",
     "text": [
      "\n",
      "TAREFA 9: Imprimindo o mínimo, máximo, média, e mediana\n",
      "Min:  60 Max:  86338 Média:  939.7777590146342 Mediana:  670\n",
      "Aperte Enter para continuar...\n"
     ]
    },
    {
     "data": {
      "text/plain": [
       "''"
      ]
     },
     "execution_count": 12,
     "metadata": {},
     "output_type": "execute_result"
    }
   ],
   "source": [
    "# Vamos trabalhar com trip_duration (duração da viagem) agora. Não conseguimos tirar alguns valores dele.\n",
    "# TAREFA 9\n",
    "# TODO: Ache a duração de viagem Mínima, Máxima, Média, e Mediana.\n",
    "# Você não deve usar funções prontas parTODO isso, como max() e min().\n",
    "\n",
    "trip_duration_list = list(map(int, column_to_list(data_list, 2)))\n",
    "list_size = len(trip_duration_list)\n",
    "trip_duration_list.sort()\n",
    "\n",
    "if list_size%2 == 0:\n",
    "    median_trip = (trip_duration_list[list_size // 2 - 1] + trip_duration_list[list_size // 2]) / 2\n",
    "else:\n",
    "    median_trip = trip_duration_list[list_size // 2]\n",
    "min_trip = trip_duration_list[0]\n",
    "max_trip = trip_duration_list[-1]\n",
    "mean_trip = sum(trip_duration_list)/list_size\n",
    "\n",
    "\n",
    "print(\"\\nTAREFA 9: Imprimindo o mínimo, máximo, média, e mediana\")\n",
    "print(\"Min: \", min_trip, \"Max: \", max_trip, \"Média: \", mean_trip, \"Mediana: \", median_trip)\n",
    "\n",
    "# ------------ NÃO MUDE NENHUM CÓDIGO AQUI ------------\n",
    "assert round(min_trip) == 60, \"TAREFA 9: min_trip com resultado errado!\"\n",
    "assert round(max_trip) == 86338, \"TAREFA 9: max_trip com resultado errado!\"\n",
    "assert round(mean_trip) == 940, \"TAREFA 9: mean_trip com resultado errado!\"\n",
    "assert round(median_trip) == 670, \"TAREFA 9: median_trip com resultado errado!\"\n",
    "# -----------------------------------------------------\n",
    "\n",
    "input(\"Aperte Enter para continuar...\")"
   ]
  },
  {
   "cell_type": "code",
   "execution_count": 13,
   "metadata": {
    "scrolled": true
   },
   "outputs": [
    {
     "name": "stdout",
     "output_type": "stream",
     "text": [
      "\n",
      "TAREFA 10: Imprimindo as start stations:\n",
      "582\n",
      "{'May St & Cullerton St', 'Kenton Ave & Madison St', 'Halsted St & 56th St', 'Wells St & Elm St', 'Blackstone Ave & Hyde Park Blvd', 'Canal St & Adams St', 'Racine Ave & Belmont Ave', 'Kostner Ave & Adams St', 'Franklin St & Lake St', 'Damen Ave & Cortland St', 'Sheffield Ave & Kingsbury St', 'Kilbourn Ave & Irving Park Rd', 'Ashland Ave & McDowell Ave', 'Jeffery Blvd & 76th St', 'Ravenswood Ave & Irving Park Rd', 'Racine Ave & 18th St', 'Broadway & Barry Ave', 'Albany Ave & Bloomingdale Ave', 'Damen Ave & Pershing Rd', 'Calumet Ave & 33rd St', 'California Ave & Cortez St', 'Halsted St & 51st St', 'State St & 29th St', 'Ravenswood Ave & Montrose Ave (*)', 'Sheffield Ave & Webster Ave', 'Dodge Ave & Church St', 'Forest Ave & Lake St', 'Halsted St & Dickens Ave', 'Peoria St & Jackson Blvd', 'Sheridan Rd & Lawrence Ave', 'Bennett Ave & 79th St', 'Kedzie Ave & Harrison St', 'Ravenswood Ave & Berteau Ave', 'Michigan Ave & 14th St', 'Wells St & Walton St', 'Eastlake Ter & Rogers Ave', 'Central Park Ave & Elbridge Ave', 'Larrabee St & Oak St', 'Normal Ave & Archer Ave', 'Lake Shore Dr & Monroe St', 'Central Park Blvd & 5th Ave', 'Buckingham Fountain', 'Fairbanks Ct & Grand Ave', 'Broadway & Argyle St', 'Broadway & Ridge Ave', 'Damen Ave & Sunnyside Ave', 'California Ave & Montrose Ave', 'Ada St & Washington Blvd', 'Orleans St & Chestnut St (NEXT Apts)', 'Dearborn Pkwy & Delaware Pl', 'Stony Island Ave & 75th St', 'Dearborn St & Monroe St', 'Lake Shore Dr & North Blvd', 'Clinton St & Tilden St', 'Emerald Ave & 28th St', 'Indiana Ave & 31st St', 'Fort Dearborn Dr & 31st St', 'Cottage Grove Ave & 51st St', 'Southport Ave & Wellington Ave', 'Damen Ave & Grand Ave', 'Artesian Ave & Hubbard St', 'Southport Ave & Wrightwood Ave', 'Dayton St & North Ave', 'Wood St & 35th St', 'Rhodes Ave & 32nd St', 'Kedzie Ave & Chicago Ave', 'Wabash Ave & Grand Ave', 'Lombard Ave & Garfield St', 'Lake Park Ave & 56th St', 'Rush St & Superior St', 'Clark St & Wellington Ave', 'Southport Ave & Clybourn Ave', 'Loomis St & Lexington St', 'Wabash Ave & Cermak Rd', 'Western Ave & Monroe St', 'Theater on the Lake', 'Lincoln Ave & Diversey Pkwy', 'Evans Ave & 75th St', 'Keystone Ave & Montrose Ave', 'Clark St & Touhy Ave', 'Greenview Ave & Fullerton Ave', 'Ashland Ave & 63rd St', 'LaSalle St & Adams St', 'Dusable Harbor', 'Southport Ave & Irving Park Rd', 'Sawyer Ave & Irving Park Rd', 'Greenwood Ave & 47th St', 'Morgan St & Polk St', 'Spaulding Ave & Armitage Ave', 'Stockton Dr & Wrightwood Ave', 'Wood St & Milwaukee Ave', 'Wabash Ave & 16th St', 'Ashland Ave & 69th St', 'Broadway & Belmont Ave', 'Lake Shore Dr & Wellington Ave', 'Shedd Aquarium', 'Cannon Dr & Fullerton Ave', 'Lakefront Trail & Bryn Mawr Ave', 'Albany Ave & 26th St', 'State St & Harrison St', 'Damen Ave & Charleston St', 'Glenwood Ave & Morse Ave', 'Damen Ave & Wellington Ave', 'Eberhart Ave & 61st St', 'Prairie Ave & 43rd St', 'Ellis Ave & 58th St', 'MLK Jr Dr & 83rd St', 'Paulina St & Montrose Ave', 'Western Ave & Howard St', 'Campbell Ave & Fullerton Ave', 'Broadway & Waveland Ave', 'Damen Ave & Madison St', 'Ridge Blvd & Touhy Ave', 'MLK Jr Dr & Oakwood Blvd', 'Larrabee St & Webster Ave', 'Clark St & Lake St', 'Ashland Ave & Chicago Ave', 'Woodlawn Ave & 75th St', 'South Shore Dr & 74th St', 'Marion St & South Blvd', 'Drake Ave & Fullerton Ave', 'Vernon Ave & 79th St', 'Green St & Madison St', 'Lincoln Ave & Belmont Ave', 'Troy St & Elston Ave', 'State St & 35th St', 'Sheridan Rd & Greenleaf Ave', 'Central Ave & Chicago Ave', 'Jeffery Blvd & 71st St', 'Orleans St & Elm St (*)', 'Central St Metra', 'California Ave & Altgeld St', 'Lake Shore Dr & Ohio St', 'Michigan Ave & Congress Pkwy', 'Ashland Ave & Lake St', 'California Ave & Fletcher St', 'Racine Ave & Wrightwood Ave', 'Calumet Ave & 71st St', 'Cottage Grove Ave & 47th St', 'Pulaski Rd & Eddy St', 'Damen Ave & Chicago Ave', 'Aberdeen St & Monroe St', 'Union Ave & Root St', 'Halsted St & Diversey Pkwy', 'Jefferson St & Monroe St', 'Marine Dr & Ainslie St', 'Sheridan Rd & Buena Ave', 'Ashland Ave & Wellington Ave', 'Wolcott Ave & Fargo Ave', 'University Library (NU)', 'Lawndale Ave & 23rd St', 'Halsted St & Roscoe St', 'Clark St & Berwyn Ave', 'Wells St & Concord Ln', 'Adler Planetarium', 'Cicero Ave & Quincy St', 'McClurg Ct & Illinois St', 'Stony Island Ave & South Chicago Ave', 'Michigan Ave & 8th St', 'Saginaw Ave & Exchange Ave', 'Millard Ave & 26th St', 'Kedzie Ave & Lake St', 'Ritchie Ct & Banks St', 'Clark St & Schreiber Ave', 'Sheffield Ave & Wellington Ave', 'Milwaukee Ave & Grand Ave', 'Harper Ave & 59th St', 'Orleans St & Ohio St', 'Desplaines St & Jackson Blvd', 'Benson Ave & Church St', 'Michigan Ave & Lake St', 'Ashland Ave & 13th St', 'Clark St & Lincoln Ave', 'State St & 33rd St', 'Throop St & 52nd St', 'Ashland Ave & Harrison St', 'Indiana Ave & Roosevelt Rd', 'Phillips Ave & 79th St', 'Western Ave & Leland Ave', 'Bissell St & Armitage Ave', 'Kimbark Ave & 53rd St', 'Troy St & North Ave', 'Montrose Harbor', 'Woodlawn Ave & 55th St', 'Princeton Ave & Garfield Blvd', 'Paulina Ave & North Ave', 'Halsted St & Archer Ave', 'Laramie Ave & Madison St', 'Kilbourn Ave & Milwaukee Ave', 'Lombard Ave & Madison St', 'Damen Ave & Pierce Ave', 'Desplaines St & Kinzie St', 'Shields Ave & 43rd St', 'MLK Jr Dr & 63rd St', 'Kedzie Ave & Roosevelt Rd', 'Damen Ave & Melrose Ave', 'Perry Ave & 69th St', 'Field Museum', 'Dorchester Ave & 49th St', 'California Ave & North Ave', 'Wilton Ave & Belmont Ave', 'Wacker Dr & Washington St', 'Lake Park Ave & 53rd St', 'Clinton St & Polk St (*)', 'Clark St & Jarvis Ave', 'Shields Ave & 31st St', 'Western Ave & Congress Pkwy', 'Ellis Ave & 60th St', 'Sedgwick St & North Ave', 'Warren Park East', 'Pine Grove Ave & Waveland Ave', 'California Ave & Byron St', 'Maplewood Ave & Peterson Ave', 'Elmwood Ave & Austin St', 'Elston Ave & Wabansia Ave', 'St. Clair St & Erie St', 'Franklin St & Jackson Blvd', 'South Shore Dr & 71st St', 'Sedgwick St & Huron St', 'Phillips Ave & 82nd St', 'Damen Ave & Augusta Blvd', 'Chicago Ave & Sheridan Rd', 'Ogden Ave & Chicago Ave', 'Sheridan Rd & Noyes St (NU)', 'Streeter Dr & Grand Ave', 'Halsted St & Wrightwood Ave', 'Kingsbury St & Erie St', 'Sangamon St & Washington Blvd (*)', 'Wells St & Polk St', 'Clark St & North Ave', 'Racine Ave & 65th St', 'Leavitt St & Archer Ave', 'Christiana Ave & Lawrence Ave', 'Keystone Ave & Fullerton Ave', 'Broadway & Wilson Ave', 'Southport Ave & Clark St', 'Ellis Ave & 55th St', 'Washtenaw Ave & 15th St (*)', 'Ogden Ave & Roosevelt Rd', 'Wisconsin Ave & Madison St', 'Halsted St & 47th Pl', 'Dorchester Ave & 63rd St', 'Carpenter St & Huron St', 'California Ave & Lake St', 'Wentworth Ave & 63rd St', 'Damen Ave & Cullerton St', 'State St & 76th St', 'Lincoln Ave & Leavitt St', 'Clark St & Elm St', 'Austin Blvd & Chicago Ave', 'Drake Ave & Montrose Ave', 'Broadway & Granville Ave', 'Ashland Ave & Grace St', 'Rainbow Beach', 'Shore Dr & 55th St', 'Ogden Ave & Race Ave', 'Michigan Ave & Washington St', 'Kedzie Ave & Leland Ave', 'Racine Ave & Garfield Blvd', 'Halsted St & Maxwell St', 'Clark St & Elmdale Ave', 'Marshfield Ave & Cortland St', 'Western Ave & 24th St', 'MLK Jr Dr & 47th St', 'Cottage Grove Ave & Oakwood Blvd', 'Indiana Ave & 26th St', 'Cornell Ave & Hyde Park Blvd', 'Ridgeland Ave & Lake St', 'MLK Jr Dr & 56th St (*)', 'Wabash Ave & 83rd St', 'Wolcott Ave & Polk St', 'Kedzie Ave & Palmer Ct', 'Broadway & Sheridan Rd', 'Kedzie Ave & 21st St', 'Shields Ave & 28th Pl', 'Western Ave & 28th St', 'Cottage Grove Ave & 78th St', 'Paulina St & Howard St', 'Racine Ave & Congress Pkwy', 'Southport Ave & Belmont Ave', 'Wabash Ave & 87th St', 'Clinton St & Jackson Blvd', 'MLK Jr Dr & 29th St', 'Yates Blvd & 75th St', 'Loomis St & Archer Ave', 'Emerald Ave & 31st St', 'Columbus Dr & Randolph St', 'State St & Van Buren St', 'Michigan Ave & Pearson St', 'Eckhart Park', 'Cottage Grove Ave & 83rd St', 'State St & Pearson St', 'Ashland Ave & Augusta Blvd', 'Clark St & Bryn Mawr Ave', 'Clark St & Schiller St', 'Prairie Ave & Garfield Blvd', 'Central Ave & Madison St', 'Wells St & Evergreen Ave', 'Greenview Ave & Diversey Pkwy', 'Millennium Park', 'Mies van der Rohe Way & Chicago Ave', 'Seeley Ave & Roscoe St', 'Spaulding Ave & Division St', 'State St & 19th St', 'Stony Island Ave & 82nd St', 'McClurg Ct & Erie St', 'Lincoln Ave & Addison St', 'Cicero Ave & Flournoy St', 'Financial Pl & Congress Pkwy', 'Kedzie Ave & Milwaukee Ave', 'Cottage Grove Ave & 43rd St', 'Milwaukee Ave & Wabansia Ave', 'Clark St & Chicago Ave', 'Talman Ave & Addison St', 'Logan Blvd & Elston Ave', 'Franklin St & Quincy St', 'Noble St & Milwaukee Ave', 'South Chicago Ave & 83rd St', 'Jeffery Blvd & 67th St', 'Morgan St & 31st St', 'Pulaski Rd & Congress Pkwy', 'Leavitt St & Addison St', 'Calumet Ave & 21st St', 'State St & Randolph St', 'California Ave & 26th St', 'Racine Ave & 13th St', '2112 W Peterson Ave', 'Sacramento Blvd & Franklin Blvd', 'Loomis St & Jackson Blvd', 'Damen Ave & Leland Ave', 'Kedzie Ave & Foster Ave', 'Wentworth Ave & 35th St', 'Stony Island Ave & 67th St', 'Calumet Ave & 51st St', 'Canal St & Harrison St', 'Budlong Woods Library', 'Kedzie Ave & Bryn Mawr Ave', 'Canal St & Monroe St (*)', 'Halsted St & 69th St', 'Sheffield Ave & Fullerton Ave', 'Ridge Blvd & Howard St', 'Avondale Ave & Irving Park Rd', 'Halsted St & 35th St (*)', 'Sheffield Ave & Wrightwood Ave', 'Stony Island Ave & 71st St', 'Racine Ave & 61st St', 'Commercial Ave & 83rd St', 'Halsted St & Willow St', 'Clark St & Lunt Ave', 'Cuyler Ave & Augusta St', 'Oakley Ave & Roscoe St', 'Aberdeen St & Jackson Blvd', 'Ravenswood Ave & Balmoral Ave', 'Rush St & Hubbard St', 'Forest Ave & Chicago Ave', 'Morgan Ave & 14th Pl', 'Fairfield Ave & Roosevelt Rd', 'Broadway & Cornelia Ave', 'Pulaski Rd & Madison St', 'Clark St & Columbia Ave', 'Racine Ave & 35th St', 'Wabash Ave & Wacker Pl', 'Stetson Ave & South Water St', 'Clark St & Montrose Ave', 'St. Louis Ave & Balmoral Ave', 'Western Ave & Walton St', 'Wells St & 19th St', 'Clinton St & Madison St', 'Halsted St & North Branch St', '900 W Harrison St', 'Drake Ave & Addison St', 'Hoyne Ave & 47th St', 'Calumet Ave & 35th St', 'Ogden Ave & Congress Pkwy', 'Knox Ave & Montrose Ave', 'Austin Blvd & Lake St', 'Clark St & Armitage Ave', 'Campbell Ave & Montrose Ave', 'Clark St & Winnemac Ave', 'Ashland Ave & Garfield Blvd', 'Bosworth Ave & Howard St', 'Ashland Ave & Pershing Rd', 'Claremont Ave & Hirsch St', 'Western Ave & Division St', 'Pine Grove Ave & Irving Park Rd', 'State St & Pershing Rd', 'Museum of Science and Industry', 'Morgan St & Pershing Rd', 'Ravenswood Ave & Lawrence Ave', 'California Ave & Milwaukee Ave', 'Clark St & Randolph St', 'California Ave & 23rd Pl', 'Hermitage Ave & Polk St', 'University Ave & 57th St', 'Seeley Ave & Garfield Blvd', 'Ashland Ave & Belle Plaine Ave', 'Ashland Ave & Grand Ave', 'Mason Ave & Madison St', 'Lincoln Ave & Waveland Ave', 'Wabash Ave & Adams St', 'Pulaski Rd & Lake St', 'Washtenaw Ave & Lawrence Ave', 'Central Ave & Lake St', 'Woodlawn Ave & Lake Park Ave', 'LaSalle St & Washington St', 'Greenview Ave & Jarvis Ave', 'Halsted St & Polk St', 'Clarendon Ave & Junior Ter', 'Racine Ave (May St) & Fulton St', 'Halsted St & 18th St', 'Kostner Ave & Lake St', 'Dearborn St & Adams St', 'Clarendon Ave & Gordon Ter', 'Rockwell St & Eastwood Ave', 'Princeton Ave & 47th St', 'Ashland Ave & 50th St', 'Ashland Ave & 21st St', 'Desplaines St & Randolph St', 'California Ave & Division St', 'Halsted St & 59th St', 'Lake Shore Dr & Belmont Ave', 'Damen Ave & 59th St', 'Clarendon Ave & Leland Ave', 'Western Blvd & 48th Pl', 'Sedgwick St & Schiller St', 'Ashland Ave & 66th St', 'Kosciuszko Park', 'Oak Park Ave & South Blvd', 'Sedgwick St & Webster Ave', 'Wentworth Ave & 33rd St', 'Ellis Ave & 53rd St', 'Central Ave & Harrison St', 'Franklin St & Chicago Ave', 'Stony Island Ave & 64th St', 'Michigan Ave & 18th St', 'Oakley Ave & Touhy Ave', 'Calumet Ave & 18th St', 'East Ave & Garfield St', 'Greenwood Ave & 79th St', 'Halsted St & 37th St', 'Oakley Ave & Irving Park Rd', 'Leavitt St & Lawrence Ave', 'Mies van der Rohe Way & Chestnut St', 'DuSable Museum', 'Central St & Girard Ave', 'Green St & Randolph St', 'Milwaukee Ave & Cuyler Ave', 'Paulina St & 18th St', 'Larrabee St & North Ave', 'Kingsbury St & Kinzie St', 'Campbell Ave & North Ave', 'Lincoln Ave & Roscoe St', 'Glenwood Ave & Touhy Ave', 'Exchange Ave & 79th St', 'Clybourn Ave & Division St', 'Wood St & Division St', 'Wentworth Ave & Archer Ave', 'Stave St & Armitage Ave', 'Lincoln Ave & Fullerton Ave', 'Canal St & Madison St', 'LaSalle St & Illinois St', 'Clinton St & Roosevelt Rd', 'Wentworth Ave & 24th St', 'Wallace St & 35th St', 'Wood St & Hubbard St', 'Lake Park Ave & 47th St', 'Morgan St & 18th St', 'Wilton Ave & Diversey Pkwy', 'Halsted St & Roosevelt Rd', 'Halsted St & Blackhawk St (*)', 'Cottage Grove Ave & 71st St', 'Marshfield Ave & 59th St', 'Lincoln Ave & Belle Plaine Ave', 'Southport Ave & Waveland Ave', 'Marshfield Ave & 44th St', 'Halsted St & 21st St', 'Lakeview Ave & Fullerton Pkwy', 'Michigan Ave & Madison St', 'Winchester Ave & Elston Ave', 'Federal St & Polk St', 'South Shore Dr & 67th St', 'Clark St & Leland Ave', 'Damen Ave & Coulter St', 'Richmond St & Diversey Ave', 'Larrabee St & Kingsbury St', 'LaSalle St & Jackson Blvd', 'Clifton Ave & Armitage Ave', 'Kedzie Ave & 24th St', 'Clark St & Wrightwood Ave', 'Clinton St & Washington Blvd', 'California Ave & Francis Pl', 'Lake Park Ave & 35th St', 'Cityfront Plaza Dr & Pioneer Ct', 'East Ave & Madison St', 'Monticello Ave & Irving Park Rd', 'Damen Ave & Division St', 'Ashland Ave & Wrightwood Ave', 'Central Park Ave & North Ave', 'Leavitt St & North Ave', 'Larrabee St & Division St', 'Daley Center Plaza', 'Field Blvd & South Water St', 'Michigan Ave & Jackson Blvd', 'Blue Island Ave & 18th St', 'Dearborn St & Erie St', 'Damen Ave & 51st St', 'Southport Ave & Roscoe St', 'Francisco Ave & Foster Ave', 'Conservatory Dr & Lake St', 'Normal Ave & 72nd St', 'Clark St & Grace St', 'Damen Ave & Foster Ave', 'Ashland Ave & Division St', 'Central Park Ave & Ogden Ave', 'Lake Shore Dr & Diversey Pkwy', 'Humphrey Ave & Ontario St', 'Indiana Ave & 40th St', 'Avers Ave & Belmont Ave', 'Morgan St & Lake St', 'Western Ave & Granville Ave', 'State St & Kinzie St', 'Clinton St & Lake St', 'Michigan Ave & Oak St', 'Laramie Ave & Kinzie St', 'Humboldt Blvd & Armitage Ave', 'Wood St & Taylor St', 'Franklin St & Monroe St', 'Wells St & Huron St', 'Sheridan Rd & Irving Park Rd', 'Hampden Ct & Diversey Pkwy', 'Broadway & Berwyn Ave', 'Burnham Harbor', 'Chicago Ave & Washington St', 'Western Ave & Winnebago Ave', 'Sheffield Ave & Waveland Ave', 'Sheridan Rd & Montrose Ave', 'Cottage Grove Ave & 63rd St', 'Oak Park Ave & Harrison St', 'May St & Taylor St', 'Ashland Ave & Blackhawk St', 'Rush St & Cedar St', 'California Ave & 21st St', 'Kimball Ave & Belmont Ave', 'Cicero Ave & Lake St', 'Ashland Ave & Archer Ave', 'State St & 79th St', 'Racine Ave & Fullerton Ave', 'Leavitt St & Armitage Ave', 'Western Ave & 21st St', 'Manor Ave & Leland Ave', 'Clark St & Congress Pkwy', 'Warren Park West', 'Clark St & 9th St (AMLI)', 'Elizabeth St & 47th St', 'Western Ave & Lunt Ave', 'Wabash Ave & 8th St', 'Lincoln Ave & Winona St', '63rd St Beach', 'Halsted St & 63rd St', 'Laramie Ave & Gladys Ave', 'Orleans St & Merchandise Mart Plaza', 'Larrabee St & Menomonee St', 'Canal St & Taylor St', 'Albany (Kedzie) Ave & Montrose Ave', 'Milwaukee Ave & Rockwell St', 'Racine Ave & Randolph St', 'May St & 69th St', 'Larrabee St & Armitage Ave', 'Loomis St & Taylor St (*)', 'Vernon Ave & 75th St', 'Ellis Ave & 83rd St', 'Sheffield Ave & Willow St', 'Racine Ave & 15th St', 'Clifton Ave & Lawrence Ave', 'Damen Ave & Clybourn Ave', 'Broadway & Thorndale Ave', 'Clinton St & 18th St', 'McCormick Place', 'Valli Produce - Evanston Plaza', 'Wabash Ave & Roosevelt Rd', 'Sheridan Rd & Loyola Ave', 'Cottage Grove Ave & 67th St'}\n"
     ]
    },
    {
     "name": "stdout",
     "output_type": "stream",
     "text": [
      "Aperte Enter para continuar...\n"
     ]
    },
    {
     "data": {
      "text/plain": [
       "''"
      ]
     },
     "execution_count": 13,
     "metadata": {},
     "output_type": "execute_result"
    }
   ],
   "source": [
    "# TAREFA 10\n",
    "# Gênero é fácil porque nós temos apenas algumas opções. E quanto a start_stations? Quantas opções ele tem?\n",
    "# TODO: Verifique quantos tipos de start_stations nós temos, usando set()\n",
    "user_types = set(column_to_list(data_list, 3))\n",
    "\n",
    "print(\"\\nTAREFA 10: Imprimindo as start stations:\")\n",
    "print(len(user_types))\n",
    "print(user_types)\n",
    "\n",
    "# ------------ NÃO MUDE NENHUM CÓDIGO AQUI ------------\n",
    "assert len(user_types) == 582, \"TAREFA 10: Comprimento errado de start stations.\"\n",
    "# -----------------------------------------------------\n",
    "input(\"Aperte Enter para continuar...\")"
   ]
  },
  {
   "cell_type": "code",
   "execution_count": 14,
   "metadata": {},
   "outputs": [],
   "source": [
    "# TAREFA 11\n",
    "# Volte e tenha certeza que você documenteou suas funções. Explique os parâmetros de entrada, a saída, e o que a função faz. Exemplo:\n",
    "def new_function(param1: int, param2: str) -> list:\n",
    "      \"\"\"\n",
    "      Função de exemplo com anotações.\n",
    "      Argumentos:\n",
    "          param1: O primeiro parâmetro.\n",
    "          param2: O segundo parâmetro.\n",
    "      Retorna:\n",
    "          Uma lista de valores x.\n",
    "\n",
    "      \"\"\"\n"
   ]
  },
  {
   "cell_type": "code",
   "execution_count": 15,
   "metadata": {},
   "outputs": [
    {
     "name": "stdout",
     "output_type": "stream",
     "text": [
      "Você vai encarar o desafio? (yes ou no)\n",
      "\n",
      "TAREFA 11: Imprimindo resultados para count_items()\n",
      "Tipos: ['', 'Female', 'Male'] Counts: [316867, 298784, 935854]\n"
     ]
    }
   ],
   "source": [
    "# TAREFA 12 - Desafio! (Opcional)\n",
    "# TODO: Crie uma função para contar tipos de usuários, sem definir os tipos\n",
    "# para que nós possamos usar essa função com outra categoria de dados.\n",
    "print(\"Você vai encarar o desafio? (yes ou no)\")\n",
    "answer = \"yes\"\n",
    "\n",
    "def count_items(column_list):\n",
    "    \"\"\"\n",
    "      Função que conta quantos itens tem dentro da lista.\n",
    "      Argumentos:\n",
    "          column_list: Lista com todos os itens que possuem no dataset.\n",
    "      Retorna:\n",
    "          Duas listas. A Primeira Lista retorna todos os tipos.\n",
    "                       A segunda lista retorna a quantidade de vezes que possuem os tipos que existem na primeira lista.\n",
    "\n",
    "      \"\"\"\n",
    "    \n",
    "    item_types = list(set(column_list))\n",
    "    count_items = [column_list.count(item_type) for item_type in item_types]\n",
    "\n",
    "    return item_types, count_items\n",
    "\n",
    "\n",
    "if answer == \"yes\":\n",
    "    # ------------ NÃO MUDE NENHUM CÓDIGO AQUI ------------\n",
    "    column_list = column_to_list(data_list, -2)\n",
    "    types, counts = count_items(column_list)\n",
    "    print(\"\\nTAREFA 11: Imprimindo resultados para count_items()\")\n",
    "    print(\"Tipos:\", types, \"Counts:\", counts)\n",
    "    assert len(types) == 3, \"TAREFA 11: Há 3 tipos de gênero!\"\n",
    "    assert sum(counts) == 1551505, \"TAREFA 11: Resultado de retorno incorreto!\"\n",
    "    # -----------------------------------------------------"
   ]
  },
  {
   "cell_type": "code",
   "execution_count": null,
   "metadata": {},
   "outputs": [],
   "source": []
  }
 ],
 "metadata": {
  "kernelspec": {
   "display_name": "Python 3",
   "language": "python",
   "name": "python3"
  },
  "language_info": {
   "codemirror_mode": {
    "name": "ipython",
    "version": 3
   },
   "file_extension": ".py",
   "mimetype": "text/x-python",
   "name": "python",
   "nbconvert_exporter": "python",
   "pygments_lexer": "ipython3",
   "version": "3.6.5"
  }
 },
 "nbformat": 4,
 "nbformat_minor": 2
}
